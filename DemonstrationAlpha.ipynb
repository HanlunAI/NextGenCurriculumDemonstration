{
  "nbformat": 4,
  "nbformat_minor": 0,
  "metadata": {
    "colab": {
      "name": "DemonstrationAlpha.ipynb",
      "provenance": [],
      "collapsed_sections": [],
      "authorship_tag": "ABX9TyMIQ63nb7AeNTPceuhsYUkT",
      "include_colab_link": true
    },
    "kernelspec": {
      "name": "python3",
      "display_name": "Python 3"
    },
    "language_info": {
      "name": "python"
    }
  },
  "cells": [
    {
      "cell_type": "markdown",
      "metadata": {
        "id": "view-in-github",
        "colab_type": "text"
      },
      "source": [
        "<a href=\"https://colab.research.google.com/github/HanlunAI/NextGenCurriculumDemonstration/blob/main/DemonstrationAlpha.ipynb\" target=\"_parent\"><img src=\"https://colab.research.google.com/assets/colab-badge.svg\" alt=\"Open In Colab\"/></a>"
      ]
    },
    {
      "cell_type": "markdown",
      "source": [
        "#Preface\n",
        "##Learn how to learn\n",
        "\n",
        "In the beginning, computers were invented with an aim to supplement human thinking methods, more specifically, to help us to think straight through the midst of complexity. In this series of demonstrations, we provide a journey of mathematical knowledge discovery accompanied with the nurturing of computer skills by the way. In practice, the Mathematics part will include some basic counting principles and statistics, and the Computer part will be some pre-written Python codes for high school students. Through this journey, you may develop you own style of exploration via self-experiment, peer learning, web-searching, etc.         \n",
        "\n",
        "Demonstration materials in this series are by no means designed to be self-contained; but rather, we present some puzzles to guide the audience through a journey of learning. The author hoped audiences would enjoy this journey filling in the remaining details to construct their own knowledge base.\n",
        "\n",
        "-- written by YK Tai (2022)"
      ],
      "metadata": {
        "id": "ZCoTvLsioxFx"
      }
    },
    {
      "cell_type": "markdown",
      "source": [
        "Let's get started by getting into the next code cell: you may either type \"Shift+Enter\" or simply click the \"Run\" button. "
      ],
      "metadata": {
        "id": "jhV2RYOpEVA5"
      }
    },
    {
      "cell_type": "code",
      "source": [
        "print(\"Hello World!\")"
      ],
      "metadata": {
        "colab": {
          "base_uri": "https://localhost:8080/"
        },
        "id": "kmnJNWNeq2JV",
        "outputId": "f7603cc0-c2ed-4ca7-d051-0753781abaa3"
      },
      "execution_count": null,
      "outputs": [
        {
          "output_type": "stream",
          "name": "stdout",
          "text": [
            "Hello World!\n"
          ]
        }
      ]
    },
    {
      "cell_type": "markdown",
      "source": [
        "#1. Counting Principle\n",
        "\n",
        "##1.1 Addition principle (a.k.a. the rule of sum):\n",
        "\n",
        "The sum of the sizes of a finite collection of mutually exclusive objects is the size of the collection of these objects.\n"
      ],
      "metadata": {
        "id": "FLnW8HcV1xUj"
      }
    },
    {
      "cell_type": "markdown",
      "source": [
        "Example: In a remote construction site, there are $2$ stations, each of which requires some batteries. We may collect these numbers in a list of integers of length $2$, then the total number of batteries required for this site for the time being is the sum of the first and second entries in this list."
      ],
      "metadata": {
        "id": "JVJKaCZx9IFH"
      }
    },
    {
      "cell_type": "code",
      "source": [
        "stationBatteries = [2,3]\n",
        "print(\"The number of stations is \"+str(len(stationBatteries))+\".\")\n",
        "print(\"The total number of batteries is \"+str(stationBatteries[0]+stationBatteries[1])+\".\")"
      ],
      "metadata": {
        "colab": {
          "base_uri": "https://localhost:8080/"
        },
        "id": "-eewg5eI3FMC",
        "outputId": "5f4dbda5-ee00-4b08-9732-34d27e432793"
      },
      "execution_count": null,
      "outputs": [
        {
          "output_type": "stream",
          "name": "stdout",
          "text": [
            "The number of stations is 2.\n",
            "The total number of batteries is 5.\n"
          ]
        }
      ]
    },
    {
      "cell_type": "markdown",
      "source": [
        "Exercises (you may attempt as many as you like in the code cell below):-\n",
        "\n",
        "1.   Cut out some codes from above to play with len(), str(), print(), etc.;\n",
        "2.   Check if the data type of each entry of stationBatteries is an integer with the function type();\n",
        "3.   Ask yourself/your friends/our almighty internet what are the other data types."
      ],
      "metadata": {
        "id": "MqFa0Gy-vJ-p"
      }
    },
    {
      "cell_type": "code",
      "source": [
        ""
      ],
      "metadata": {
        "id": "3GVJny3gvaiE"
      },
      "execution_count": null,
      "outputs": []
    },
    {
      "cell_type": "markdown",
      "source": [
        "Example: In a more general setting, there are $n$ stations, each of which require a few number of batteries. We may collect these numbers in a list of integer of length $n$, then the total number of batteries required for this site is the sum of all entries in this list."
      ],
      "metadata": {
        "id": "V9tE6z4_9Z9s"
      }
    },
    {
      "cell_type": "code",
      "source": [
        "stationBatteries = [2,3,4,2,1,3]\n",
        "\n",
        "n = len(stationBatteries)\n",
        "print(\"The number of stations is \"+str(n)+\".\")\n",
        "\n",
        "count = 0\n",
        "for i in range(n):\n",
        "  count += stationBatteries[i]\n",
        "\n",
        "print(\"The total number of batteries is \"+str(count)+\".\")"
      ],
      "metadata": {
        "colab": {
          "base_uri": "https://localhost:8080/"
        },
        "id": "4LMiwUim9t4r",
        "outputId": "4b8f61ee-5a3c-454d-a846-f9187cff1bbf"
      },
      "execution_count": null,
      "outputs": [
        {
          "output_type": "stream",
          "name": "stdout",
          "text": [
            "The number of stations is 6.\n",
            "The total number of batteries is 15.\n"
          ]
        }
      ]
    },
    {
      "cell_type": "markdown",
      "source": [
        "Exercises (you may attempt as many as you like in the code cell below):-\n",
        "\n",
        "1.   Try with a different list of batteries requirement;\n",
        "2.   By now, you should have noted that indexing of a list starts from 0;\n",
        "3.   Play with range(), for loop and the += assignment;\n",
        "4.   (Challenge) Extract the for loop as a [function](https://www.w3schools.com/python/python_functions.asp) that input a list of batteries required and output the sum of all batteries, mind the indentation when you write in Python.\n"
      ],
      "metadata": {
        "id": "hTDCcD70fyDv"
      }
    },
    {
      "cell_type": "code",
      "source": [
        ""
      ],
      "metadata": {
        "id": "3u-xnrVZnkYm"
      },
      "execution_count": null,
      "outputs": []
    },
    {
      "cell_type": "markdown",
      "source": [
        "Example: Workers in station need refreshment. We may collect the quantity of different beverages drinks in a dictionary and count the total number of drinks available.\n"
      ],
      "metadata": {
        "id": "irokGOOThXWU"
      }
    },
    {
      "cell_type": "code",
      "source": [
        "beverages = {\n",
        "  \"tea\": 4,\n",
        "  \"coffee\": 3,\n",
        "  \"chocolate\": 3,\n",
        "  \"orange juice\": 5,\n",
        "  \"apple juice\": 3,\n",
        "}\n",
        "\n",
        "print(\"Number of types of beverages: {}.\".format(len(beverages)))\n",
        "print(\"Total number of beverages: {}.\".format(sum(beverages.values())))"
      ],
      "metadata": {
        "colab": {
          "base_uri": "https://localhost:8080/"
        },
        "id": "wYjVjL0TiWm0",
        "outputId": "75379860-673a-4167-a333-8a0a03adea3d"
      },
      "execution_count": null,
      "outputs": [
        {
          "output_type": "stream",
          "name": "stdout",
          "text": [
            "Number of types of beverages: 5.\n",
            "Total number of beverages: 18.\n"
          ]
        }
      ]
    },
    {
      "cell_type": "markdown",
      "source": [
        "Check points (you may insert a new code cell below to explore the following):-\n",
        "\n",
        "1.   Dictionary may be rewrite in a single line;\n",
        "2.   Each \"key\" in a dictionary has a \"value\". Could you tell what are the keys and associated values in our dictionary? Could you check the data type of these keys and values we used?\n",
        "3.   Could the function sum() be used for a list object? If so, under what conditions?\n",
        "4.   Could you rewrite the function sum()? \n",
        "5.   You may check out more about output formatting from here: https://www.geeksforgeeks.org/python-output-formatting/ "
      ],
      "metadata": {
        "id": "QV7tlLuZkPZd"
      }
    },
    {
      "cell_type": "markdown",
      "source": [
        "##1.2 Multiplication principle (a.k.a. the rule of product):\n",
        "\n",
        "If there are $m$ ways of counting something, each of which has $n$ ways of counting another thing, then there are a total of $mn$ ways of counting both."
      ],
      "metadata": {
        "id": "jeqARKo43T4k"
      }
    },
    {
      "cell_type": "markdown",
      "source": [
        "Example: A full tea set consists of beverages and snack, we could multiply the choices of each component to get the total number of different choices of a full tea set.\n"
      ],
      "metadata": {
        "id": "eEnI7u-J6YhW"
      }
    },
    {
      "cell_type": "code",
      "source": [
        "#assign choices in a list\n",
        "beverages, snack = [5, 3]\n",
        "\n",
        "def fullTeaSet(beverages, snack):\n",
        "  return beverages*snack\n",
        "\n",
        "def printResult(beverages, snack):\n",
        "  if type(beverages) is not int or type(snack) is not int :\n",
        "    print(\"choices of beverages and snack must be a non-negative integer\")\n",
        "  else:\n",
        "    total = fullTeaSet(beverages, snack)\n",
        "    print(\"Given {} choices of beverages and {} choices of snack, the total number of full tea set choices is {}x{} = {}.\".format(beverages, snack , beverages, snack , total))\n",
        "  return\n",
        "\n",
        "printResult(beverages, snack)"
      ],
      "metadata": {
        "id": "R_6T8zBg4Yfn",
        "colab": {
          "base_uri": "https://localhost:8080/"
        },
        "outputId": "a0440816-9fcd-4a91-a077-481ecdd0435b"
      },
      "execution_count": null,
      "outputs": [
        {
          "output_type": "stream",
          "name": "stdout",
          "text": [
            "Given 5 choices of beverages and 3 choices of snack, the total number of full tea set choices is 5x3 = 15.\n"
          ]
        }
      ]
    },
    {
      "cell_type": "markdown",
      "source": [
        "Check points:\n",
        "\n",
        "1.   A comment in Python starts with the hash character, # , and extends to the end of the physical line. You may search online another way of making comments in a block.\n",
        "2.   The calculation of multiplication actually happens in just one core line, could you spot and extract that?\n",
        "3.   The printResult function handles some exceptions of the fullTeaSet, does that make any sense to you?"
      ],
      "metadata": {
        "id": "CVLjnw9P-hNn"
      }
    },
    {
      "cell_type": "code",
      "source": [
        ""
      ],
      "metadata": {
        "id": "WD5XOs0a8sQC"
      },
      "execution_count": null,
      "outputs": []
    },
    {
      "cell_type": "markdown",
      "source": [
        "Example:\n",
        "One day, Alice and Bob hang out at tea time. Both of them think a full tea set is too much and would like to have either one drink or one snack. The number of different scenarios require both the rule of sum and the rule of product."
      ],
      "metadata": {
        "id": "uAo4sIMLE4YD"
      }
    },
    {
      "cell_type": "code",
      "source": [
        "#assign choices in a list\n",
        "beverages, snack = [4, 2]\n",
        "\n",
        "AliceChoice = beverages + snack\n",
        "BobChoice = beverages + snack\n",
        "Scenarios = AliceChoice * BobChoice\n",
        "\n",
        "print(\"Alice has \"+ str(AliceChoice) + \" choices and Bob has \"+ str(BobChoice) + \" choices; together there are \" + str(Scenarios) +\" scenarios.\")"
      ],
      "metadata": {
        "colab": {
          "base_uri": "https://localhost:8080/"
        },
        "id": "g5QaXHR9HPYS",
        "outputId": "3c21090f-43d6-497b-b3a4-2f7830b953c5"
      },
      "execution_count": null,
      "outputs": [
        {
          "output_type": "stream",
          "name": "stdout",
          "text": [
            "Alice has 6 choices and Bob has 6 choices; together there are 36 scenarios.\n"
          ]
        }
      ]
    },
    {
      "cell_type": "markdown",
      "source": [
        "Check points:\n",
        "\n",
        "1.   Try to rewrite the printing line with output formatting so that it is easier to read;\n",
        "2.   If Alice and Bob want to avoid making the same choice, what will be the number of scenarios?"
      ],
      "metadata": {
        "id": "ZKmQRSkCIO1G"
      }
    },
    {
      "cell_type": "code",
      "source": [
        ""
      ],
      "metadata": {
        "id": "uwLmTuSWIN_I"
      },
      "execution_count": null,
      "outputs": []
    },
    {
      "cell_type": "markdown",
      "source": [
        "Example:\n",
        "Bob is going for tea time alone $3$ days in a row, the choices for each day are the same set of $6$ choices. If he doesn't mind repetition, he will end up with $6\\times 6\\times 6 = 216$ scenarios for these $3$ days. \n",
        "\n",
        "But what if no repetition is wanted, then how many scenarios are there for these $3$ days ? "
      ],
      "metadata": {
        "id": "A8D8N1iDJJyx"
      }
    },
    {
      "cell_type": "code",
      "source": [
        "print(6*5*4)"
      ],
      "metadata": {
        "colab": {
          "base_uri": "https://localhost:8080/"
        },
        "id": "rEucVnTYH-H-",
        "outputId": "addba15b-fd48-480e-8ef6-9827fe1fdd49"
      },
      "execution_count": null,
      "outputs": [
        {
          "output_type": "stream",
          "name": "stdout",
          "text": [
            "120\n"
          ]
        }
      ]
    },
    {
      "cell_type": "markdown",
      "source": [
        "Check points:\n",
        "\n",
        "1.   Think about the general setting, given $n$ choices fixed for each day, we want to avoid repetition for $r$ days in a row. How many different scenarios are there?\n",
        "2.   Well, we shall question the above question: for a non-trivial answer, shall we at least require $n\\geq r$ to begin with, so that some scenario could even exist in the first place? ;)\n",
        "\n"
      ],
      "metadata": {
        "id": "A-RgUJ_0PCVy"
      }
    },
    {
      "cell_type": "code",
      "source": [
        ""
      ],
      "metadata": {
        "id": "3Zpc9fieS57x"
      },
      "execution_count": null,
      "outputs": []
    }
  ]
}