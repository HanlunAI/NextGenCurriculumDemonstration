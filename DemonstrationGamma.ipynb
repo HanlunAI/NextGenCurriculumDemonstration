{
  "nbformat": 4,
  "nbformat_minor": 0,
  "metadata": {
    "colab": {
      "name": "DemonstrationGamma.ipynb",
      "provenance": [],
      "collapsed_sections": [],
      "authorship_tag": "ABX9TyPjQaXN2nCIwxuIT18Lf1Jd",
      "include_colab_link": true
    },
    "kernelspec": {
      "name": "python3",
      "display_name": "Python 3"
    },
    "language_info": {
      "name": "python"
    }
  },
  "cells": [
    {
      "cell_type": "markdown",
      "metadata": {
        "id": "view-in-github",
        "colab_type": "text"
      },
      "source": [
        "<a href=\"https://colab.research.google.com/github/HanlunAI/NextGenCurriculumDemonstration/blob/main/DemonstrationGamma.ipynb\" target=\"_parent\"><img src=\"https://colab.research.google.com/assets/colab-badge.svg\" alt=\"Open In Colab\"/></a>"
      ]
    },
    {
      "cell_type": "markdown",
      "source": [
        "#Preface\n",
        "##Learn how to learn\n",
        "\n",
        "In the beginning, computers were invented with an aim to supplement human thinking methods, more specifically, to help us to think straight through the midst of complexity. In this series of demonstrations, we provide a journey of mathematical knowledge discovery accompanied with the nurturing of computer skills by the way. In practice, the Mathematics part will include some basic counting principles and statistics, and the Computer part will be some pre-written Python codes for high school students. Through this journey, you may develop you own style of exploration via self-experiment, peer learning, web-searching, etc.\n",
        "\n",
        "Demonstration materials in this series are by no means designed to be self-contained; but rather, we present some puzzles to guide the audience through a journey of learning. The author hoped audiences would enjoy this journey filling in the remaining details to construct their own knowledge base.\n",
        "\n",
        "-- YK Tai"
      ],
      "metadata": {
        "id": "LnN_8jWfjD8M"
      }
    },
    {
      "cell_type": "markdown",
      "source": [
        "*Acknowledgement*\n",
        "\n",
        "*The author would like to thank Bobby Poon for going through this material, giving feedback and hosting a workshop.*"
      ],
      "metadata": {
        "id": "E4z40RfeZ0Pr"
      }
    },
    {
      "cell_type": "markdown",
      "source": [
        "Remark\n",
        "\n",
        "Codes in this series of demonstrations had not been optimized yet. For some codes, audiences use yield statement to save some memory like what [itertools](https://docs.python.org/3/library/itertools.html#itertools.combinations) did. Further usage of binary operations may also boost the performance."
      ],
      "metadata": {
        "id": "em8VIm-DZ2jA"
      }
    },
    {
      "cell_type": "markdown",
      "source": [
        "#3. Combination\n"
      ],
      "metadata": {
        "id": "U1viyb-_Ddo-"
      }
    },
    {
      "cell_type": "markdown",
      "source": [
        "##3.1 Counting Combinations"
      ],
      "metadata": {
        "id": "00gTR-HWDj74"
      }
    },
    {
      "cell_type": "markdown",
      "source": [
        "**3.1.1** Discussion\n",
        "\n",
        "Given $n$ fixed choices, one would like to make $r$ choices without repetition in a row for $0\\leq r \\leq n$.\n",
        "One may disregard the ordering and call these $r$ choices a combination.\n",
        "\n",
        "Denote by $C^n_r$, or sometimes $_nC_r$, the number of combinations. By considering the number of times had been overcounted when ordering come into play, $C^n_r$ the number of combinations is related to $P^n_r$ the number of permutations by a simple relation:\n",
        "\n",
        "$$r! C^n_r = P^n_r$$\n",
        "\n",
        "Hence,\n",
        "\n",
        "$$C^n_r = \\frac{P^n_r}{r!} = \\frac{n!}{r!(n-r)!}$$\n"
      ],
      "metadata": {
        "id": "hfjPg2onLKaD"
      }
    },
    {
      "cell_type": "markdown",
      "source": [
        "**3.1.2** As a corollary of the above result, we may realize that the product of any $r$ consecutive positive integers is always divisible by $r!$ because the division gives rise to the counting number of some combinations, that has to be an integer. \n",
        "\n",
        "Think about it, is there more we could conclude when $n$ also happens to be a prime number?"
      ],
      "metadata": {
        "id": "wLDOASMDd2oK"
      }
    },
    {
      "cell_type": "code",
      "source": [
        "def combinate(n,r):\n",
        "  if r>n:\n",
        "    print(\"r should be no larger than n\")\n",
        "    return\n",
        "  ways = 1\n",
        "  #to safely write down the next few lines, it does require some mathematical knowledge\n",
        "  for i in range(r):\n",
        "    ways *= n-i\n",
        "    ways //= i+1\n",
        "  return ways\n",
        "\n",
        "#assign non-negative integer values to variables\n",
        "n = 100\n",
        "r = 50\n",
        "print(\"{}C{} = {}.\".format(n,r,combinate(n,r)))"
      ],
      "metadata": {
        "colab": {
          "base_uri": "https://localhost:8080/"
        },
        "id": "3L1ANQTlDgNZ",
        "outputId": "c5464f40-dc27-4c11-c01c-c75f0ed0e13b"
      },
      "execution_count": null,
      "outputs": [
        {
          "output_type": "stream",
          "name": "stdout",
          "text": [
            "100C50 = 100891344545564193334812497256.\n"
          ]
        }
      ]
    },
    {
      "cell_type": "markdown",
      "source": [
        "**3.1.3** Daisy is like the previous guy Charles. We need to list the combinations for some small $n$ and $r$ to help her out."
      ],
      "metadata": {
        "id": "5fRiHDfWYdZu"
      }
    },
    {
      "cell_type": "code",
      "source": [
        "#Let's start with a list of distinct strings\n",
        "moreToken = ['A','B','C','D','E','F','G','H','I','J','K']\n",
        "\n",
        "#Start the bookkeeping with some initializations\n",
        "nCrTriangle = [[['']],[['0'],['1']]]\n",
        "\n",
        "def expansion(n):\n",
        "  if len(nCrTriangle) > n:\n",
        "    return nCrTriangle[n]\n",
        "  previousExpansion = expansion(n-1)\n",
        "  newExpansion = [[] for i in range(n+1)]\n",
        "  for nCrList in previousExpansion:\n",
        "    for item in nCrList:\n",
        "      expand0 = '0' + item\n",
        "      expand1 = '1' + item\n",
        "      itemMass = item.count('1')\n",
        "      newExpansion[itemMass].append(expand0)\n",
        "      newExpansion[itemMass+1].append(expand1)\n",
        "  nCrTriangle.append(newExpansion)\n",
        "  return newExpansion\n",
        "\n",
        "def nCrListPrint(n,r):\n",
        "  print(\"The following is a list of \"+str(n)+\"C\"+str(r)+\" = \"+str(len(nCrTriangle[n][r]))+\" distinct combinations:\", end = '\\n')\n",
        "  count = 0\n",
        "  for item in nCrTriangle[n][r]:\n",
        "    selectedToken = ''.join(moreToken[i] if item[i]=='1' else '_' for i in range(len(item)))\n",
        "    count += 1\n",
        "    print(str(count)+\".\\t\"+selectedToken, end = '\\n')\n",
        "  return\n",
        "\n",
        "#assign small integer values (0<=r<=n<=<11) to variables\n",
        "n = 8\n",
        "r = 3\n",
        "expansion(n)\n",
        "nCrListPrint(n,r)"
      ],
      "metadata": {
        "colab": {
          "base_uri": "https://localhost:8080/"
        },
        "id": "k9Wfakw-Z0Ra",
        "outputId": "9cb6baf9-8d51-4a51-abf8-ad32a287e6fa"
      },
      "execution_count": null,
      "outputs": [
        {
          "output_type": "stream",
          "name": "stdout",
          "text": [
            "The following is a list of 8C3 = 56 distinct combinations:\n",
            "1.\tABC_____\n",
            "2.\tAB_D____\n",
            "3.\tAB__E___\n",
            "4.\tAB___F__\n",
            "5.\tAB____G_\n",
            "6.\tAB_____H\n",
            "7.\tA_CD____\n",
            "8.\tA_C_E___\n",
            "9.\tA_C__F__\n",
            "10.\tA_C___G_\n",
            "11.\tA_C____H\n",
            "12.\tA__DE___\n",
            "13.\tA__D_F__\n",
            "14.\tA__D__G_\n",
            "15.\tA__D___H\n",
            "16.\tA___EF__\n",
            "17.\tA___E_G_\n",
            "18.\tA___E__H\n",
            "19.\tA____FG_\n",
            "20.\tA____F_H\n",
            "21.\tA_____GH\n",
            "22.\t_BCD____\n",
            "23.\t_BC_E___\n",
            "24.\t_BC__F__\n",
            "25.\t_BC___G_\n",
            "26.\t_BC____H\n",
            "27.\t_B_DE___\n",
            "28.\t_B_D_F__\n",
            "29.\t_B_D__G_\n",
            "30.\t_B_D___H\n",
            "31.\t_B__EF__\n",
            "32.\t_B__E_G_\n",
            "33.\t_B__E__H\n",
            "34.\t_B___FG_\n",
            "35.\t_B___F_H\n",
            "36.\t_B____GH\n",
            "37.\t__CDE___\n",
            "38.\t__CD_F__\n",
            "39.\t__CD__G_\n",
            "40.\t__CD___H\n",
            "41.\t__C_EF__\n",
            "42.\t__C_E_G_\n",
            "43.\t__C_E__H\n",
            "44.\t__C__FG_\n",
            "45.\t__C__F_H\n",
            "46.\t__C___GH\n",
            "47.\t___DEF__\n",
            "48.\t___DE_G_\n",
            "49.\t___DE__H\n",
            "50.\t___D_FG_\n",
            "51.\t___D_F_H\n",
            "52.\t___D__GH\n",
            "53.\t____EFG_\n",
            "54.\t____EF_H\n",
            "55.\t____E_GH\n",
            "56.\t_____FGH\n"
          ]
        }
      ]
    },
    {
      "cell_type": "markdown",
      "source": [
        "## 3.2 Some Properties of Combinations"
      ],
      "metadata": {
        "id": "5TB-7ZJoDsTx"
      }
    },
    {
      "cell_type": "markdown",
      "source": [
        "**3.2.1** We may insert a scratch cell play with the above codes for a while longer.\n",
        "\n",
        "\n",
        "Let's try with a few small $n$ and $r$ and see if you could find some patterns to prove the following basic properties (and specify the requirement for $n$ and $r$ when necessary):\n",
        "\n",
        "1.   $C^n_r=C^n_{n-r}$\n",
        "2.   $C^n_r=C^{n-1}_{r-1}+C^{n-1}_{r}$\n",
        "3.   $C^n_r=C^{n-1}_{r-1}+C^{n-2}_{r-1}+\\cdots+C^{r-1}_{r-1}$\n",
        "4.   $C^{n}_{0}+(-1)C^{n}_{1}+\\cdots+(-1)^{n-1}C^{n}_{n-1}+(-1)^{n}C^{n}_{n} = 0$\n",
        "\n",
        "    (Hint for 4: one may execute nCrListPrint(4,0), nCrListPrint(4,1), nCrListPrint(4,2), nCrListPrint(4,3), nCrListPrint(4,4) at once to look for some clue)\n",
        "5.   There are more for you to find out...\n",
        "\n",
        "By property 1, we may add a if-clause to make the function combinate(n,r) more efficient. For more consequence, you may rewrite the function for computing the number of combinations from property 2. The idea is to write in recusion with some initializations. With some bookkeeping, rewriting the function with essentially some summations might be computationally more efficient than doing multiplications and divisions naively.\n",
        "\n",
        "Sometimes, this method is refered to as the Pascal's triangle, or in our oriental invention, 楊輝三角形."
      ],
      "metadata": {
        "id": "B7wfXKkGb8Ek"
      }
    },
    {
      "cell_type": "code",
      "source": [
        "#for the time being, we are a bit lazy and would abuse some previous code to draw the Pascal's triangle, so make sure you run the previos code cell\n",
        "#the proper way of doing so is to rewrite in a more efficient way, which is left as an exercise...\n",
        "#now let's declare the size, please assign a small natural number n<20\n",
        "n = 13\n",
        "expansion(n)\n",
        "PascalTriangle = [[len(item) for item in nCrList] for nCrList in nCrTriangle]\n",
        "PascalTriangle[:n+1]"
      ],
      "metadata": {
        "id": "S6U65hz9Dwc4",
        "colab": {
          "base_uri": "https://localhost:8080/"
        },
        "outputId": "d16e69ad-f8cd-4578-cf7d-6185eebe3820"
      },
      "execution_count": null,
      "outputs": [
        {
          "output_type": "execute_result",
          "data": {
            "text/plain": [
              "[[1],\n",
              " [1, 1],\n",
              " [1, 2, 1],\n",
              " [1, 3, 3, 1],\n",
              " [1, 4, 6, 4, 1],\n",
              " [1, 5, 10, 10, 5, 1],\n",
              " [1, 6, 15, 20, 15, 6, 1],\n",
              " [1, 7, 21, 35, 35, 21, 7, 1],\n",
              " [1, 8, 28, 56, 70, 56, 28, 8, 1],\n",
              " [1, 9, 36, 84, 126, 126, 84, 36, 9, 1],\n",
              " [1, 10, 45, 120, 210, 252, 210, 120, 45, 10, 1],\n",
              " [1, 11, 55, 165, 330, 462, 462, 330, 165, 55, 11, 1],\n",
              " [1, 12, 66, 220, 495, 792, 924, 792, 495, 220, 66, 12, 1],\n",
              " [1, 13, 78, 286, 715, 1287, 1716, 1716, 1287, 715, 286, 78, 13, 1]]"
            ]
          },
          "metadata": {},
          "execution_count": 14
        }
      ]
    },
    {
      "cell_type": "markdown",
      "source": [
        "Footnote: the author believes that mathematical concepts are essentially inventions of some intelligent beings under some circumstances. Successful concepts may fit in more general circumstances, some may penetrate through various cultures by transmission/reinvention, and some may even have universal significance. Reinvention might be unavoidable in times when there was friction in transmission of concepts. Now, in our journey of mathematical knowledge discovery, we meant to be a wayfarer following the paths of our pioneers, bypassing the process of reinventing the wheel. In this journey, we share their joys of getting something done. In the future, some of us here may make some new inventions and push the frontiers of knowledge."
      ],
      "metadata": {
        "id": "yL3xyzTbGx8Z"
      }
    },
    {
      "cell_type": "markdown",
      "source": [
        "##3.3 Application of Combinations"
      ],
      "metadata": {
        "id": "E_aexKAsD0fN"
      }
    },
    {
      "cell_type": "markdown",
      "source": [
        "**3.3.1** \n",
        "Example: We have $6$ spare batteries to be distributed to $3$ remote stations. Including those plans that some station may receive $0$ spare battery, how many differnt plans are there in total?\n",
        "\n"
      ],
      "metadata": {
        "id": "JuAmFb3xBvah"
      }
    },
    {
      "cell_type": "code",
      "source": [
        "#make sure you run previous code cells before running this one\n",
        "def sparesAllocationPrint(n,r):\n",
        "  print(\"The following is a list of {}C{} = {} batteries allocation plans, we use {} |'s to partition {} stations:\".format(n,r, len(nCrTriangle[n][r]), r, r+1), end = '\\n')\n",
        "  count = 0\n",
        "  for item in nCrTriangle[n][r]:\n",
        "    count += 1\n",
        "    selectedToken = ''.join(\"|\" if item[i]=='1' else 'b' for i in range(len(item)))\n",
        "    print(str(count)+\".\\t\"+selectedToken, end = '\\n')\n",
        "  return\n",
        "\n",
        "#you may try with some different number, some small positive integers\n",
        "batteries = 6\n",
        "station = 3\n",
        "expansion(batteries+station-1)\n",
        "sparesAllocationPrint(batteries+station-1,station-1)"
      ],
      "metadata": {
        "id": "_m57_WkgD63k",
        "colab": {
          "base_uri": "https://localhost:8080/"
        },
        "outputId": "ca585eaf-2725-4a75-b3af-8c9f24502483"
      },
      "execution_count": null,
      "outputs": [
        {
          "output_type": "stream",
          "name": "stdout",
          "text": [
            "The following is a list of 8C2 = 28 batteries allocation plans, we use 2 |'s to partition 3 stations:\n",
            "1.\t||bbbbbb\n",
            "2.\t|b|bbbbb\n",
            "3.\t|bb|bbbb\n",
            "4.\t|bbb|bbb\n",
            "5.\t|bbbb|bb\n",
            "6.\t|bbbbb|b\n",
            "7.\t|bbbbbb|\n",
            "8.\tb||bbbbb\n",
            "9.\tb|b|bbbb\n",
            "10.\tb|bb|bbb\n",
            "11.\tb|bbb|bb\n",
            "12.\tb|bbbb|b\n",
            "13.\tb|bbbbb|\n",
            "14.\tbb||bbbb\n",
            "15.\tbb|b|bbb\n",
            "16.\tbb|bb|bb\n",
            "17.\tbb|bbb|b\n",
            "18.\tbb|bbbb|\n",
            "19.\tbbb||bbb\n",
            "20.\tbbb|b|bb\n",
            "21.\tbbb|bb|b\n",
            "22.\tbbb|bbb|\n",
            "23.\tbbbb||bb\n",
            "24.\tbbbb|b|b\n",
            "25.\tbbbb|bb|\n",
            "26.\tbbbbb||b\n",
            "27.\tbbbbb|b|\n",
            "28.\tbbbbbb||\n"
          ]
        }
      ]
    },
    {
      "cell_type": "markdown",
      "source": [
        "**3.3.2** Checkpoints\n",
        "\n",
        "1.   Could we generalize to counting allocation for an arbitary number of spare batteries to an arbitary number of stations?\n",
        "2.   Re-do this exercise by adding a requirement that each station should receive at least $1$ spare battery? You may introduce some additional condition if necessary.\n",
        "\n"
      ],
      "metadata": {
        "id": "2DSXIPKMMUOD"
      }
    },
    {
      "cell_type": "markdown",
      "source": [
        "##3.4 Binomial Theorem"
      ],
      "metadata": {
        "id": "MeSibdSFD7p8"
      }
    },
    {
      "cell_type": "markdown",
      "source": [
        "**3.4.1** Recall that Colab is a powerful computing tool. Let's use it to expand the following polynomial:\n",
        "\n",
        "$$(x+A)(x+B)(x+C)(x+D)(x+E)(x+F)$$\n",
        "\n",
        "Let's expand the polynomial and group similar terms by running the next code cell:"
      ],
      "metadata": {
        "id": "zTqNfanoRqYl"
      }
    },
    {
      "cell_type": "code",
      "source": [
        "#@title Codes are boring here. Let's hide them and just inspect the result.\n",
        "#@markdown If you have trouble running the cell here, please go back and check if the code cell under 3.1.3 is running probably.\n",
        "\n",
        "components = ['A','B','C','D','E','F']\n",
        "def expansionPrint(components):\n",
        "  print(\"First, we expand with distributive law (and also assoicative law actually);\")\n",
        "  print(\"Then, we group similar terms with commutative law and distributive law.\", end=\"\\n\\n\\n\")\n",
        "\n",
        "  n = len(components)\n",
        "  expansion(n)\n",
        "  expandedCode = nCrTriangle[n]\n",
        "  print(\"  \", end = \"\")\n",
        "  for i in range(n):\n",
        "    if i == n-1:\n",
        "      print(\"(x+{}) \\n\\n=\".format(components[i]), end = '')  \n",
        "    else:\n",
        "      print(\"(x+{})\".format(components[i]), end = '')\n",
        "  for i in range(n+1):\n",
        "    for j in range(len(expandedCode[i])):\n",
        "        if i != 0 and j == 0:\n",
        "          print(\" \", end = '')\n",
        "        item = expandedCode[i][j]\n",
        "        term = ''.join(components[k] if item[k]=='1' else 'x' for k in range(len(item)))\n",
        "        if i < n:\n",
        "          print(\" \" + term, end =\" +\")\n",
        "        else:\n",
        "          print(\" \" + term, end =\"\\n\\n=\")\n",
        "    if i != n:\n",
        "      print(\"\")\n",
        "\n",
        "  for i in range(n+1):\n",
        "    if i == 0:\n",
        "      print(\" x^{} +\".format(n))\n",
        "    elif i == n:\n",
        "      print(\"  \"+\"\".join(components))\n",
        "    else:\n",
        "      print(\"  (\", end = \"\")\n",
        "      for j in range(len(expandedCode[i])):\n",
        "        item = expandedCode[i][j]\n",
        "        term = ''.join(components[k] if item[k]=='1' else '' for k in range(len(item)))\n",
        "        if i < n:\n",
        "          if j < len(expandedCode[i])-1:\n",
        "            print(term, end =\" + \")\n",
        "          else:\n",
        "            print(term, end =\"\")\n",
        "        else:\n",
        "          print(term, end =\"\")\n",
        "      if n-i > 1:\n",
        "        print(\") x^{} +\".format(n-i))\n",
        "      else:\n",
        "        print(\") x +\")\n",
        "  print('')\n",
        "  return\n",
        "expansionPrint(components)"
      ],
      "metadata": {
        "id": "5PfJ5c3MEDy2",
        "colab": {
          "base_uri": "https://localhost:8080/"
        },
        "outputId": "ae87387e-dbd0-4b0a-b4a0-176ace3ef767",
        "cellView": "form"
      },
      "execution_count": null,
      "outputs": [
        {
          "output_type": "stream",
          "name": "stdout",
          "text": [
            "First, we expand with distributive law (and also assoicative law actually);\n",
            "Then, we group similar terms with commutative law and distributive law.\n",
            "\n",
            "\n",
            "  (x+A)(x+B)(x+C)(x+D)(x+E)(x+F) \n",
            "\n",
            "= xxxxxx +\n",
            "  Axxxxx + xBxxxx + xxCxxx + xxxDxx + xxxxEx + xxxxxF +\n",
            "  ABxxxx + AxCxxx + AxxDxx + AxxxEx + AxxxxF + xBCxxx + xBxDxx + xBxxEx + xBxxxF + xxCDxx + xxCxEx + xxCxxF + xxxDEx + xxxDxF + xxxxEF +\n",
            "  ABCxxx + ABxDxx + ABxxEx + ABxxxF + AxCDxx + AxCxEx + AxCxxF + AxxDEx + AxxDxF + AxxxEF + xBCDxx + xBCxEx + xBCxxF + xBxDEx + xBxDxF + xBxxEF + xxCDEx + xxCDxF + xxCxEF + xxxDEF +\n",
            "  ABCDxx + ABCxEx + ABCxxF + ABxDEx + ABxDxF + ABxxEF + AxCDEx + AxCDxF + AxCxEF + AxxDEF + xBCDEx + xBCDxF + xBCxEF + xBxDEF + xxCDEF +\n",
            "  ABCDEx + ABCDxF + ABCxEF + ABxDEF + AxCDEF + xBCDEF +\n",
            "  ABCDEF\n",
            "\n",
            "= x^6 +\n",
            "  (A + B + C + D + E + F) x^5 +\n",
            "  (AB + AC + AD + AE + AF + BC + BD + BE + BF + CD + CE + CF + DE + DF + EF) x^4 +\n",
            "  (ABC + ABD + ABE + ABF + ACD + ACE + ACF + ADE + ADF + AEF + BCD + BCE + BCF + BDE + BDF + BEF + CDE + CDF + CEF + DEF) x^3 +\n",
            "  (ABCD + ABCE + ABCF + ABDE + ABDF + ABEF + ACDE + ACDF + ACEF + ADEF + BCDE + BCDF + BCEF + BDEF + CDEF) x^2 +\n",
            "  (ABCDE + ABCDF + ABCEF + ABDEF + ACDEF + BCDEF) x +\n",
            "  ABCDEF\n",
            "\n"
          ]
        }
      ]
    },
    {
      "cell_type": "markdown",
      "source": [
        "**3.4.2** The Binomial Theorem\n",
        "\n",
        "From the above experience, it is convincing that in general when expanding the product of $n$ linear terms of $x$, there are $C^n_{n-i}$ items to be summed up for the coefficient of $x^i$. \n",
        "\n",
        "In particular, when $A=B=C=\\cdots$ , we have the binomial theorem:\n",
        "\n",
        "$$(x+A)^n = C^n_0 x^n + C^n_1 A x^{n-1} + \\cdots + C^n_{n-1} A^{n-1} x + C^n_{n}A^{n}$$\n",
        "\n",
        "Sometimes, it's useful to study the identity given by the substitution $A=1$:\n",
        "\n",
        "$$(x+1)^n = C^n_0 x^n + C^n_1 + \\cdots + C^n_{n-1} x + C^n_{n}$$\n"
      ],
      "metadata": {
        "id": "MIK3xogoa_iT"
      }
    },
    {
      "cell_type": "markdown",
      "source": [
        "**3.4.3** One more property of combinations that shouldn't be missed.\n",
        "\n",
        "By subsituting $x=1$ in the last identity, we have one more property of combinations that you may already know:\n",
        "\n",
        "$$2^n = C^n_0 + C^n_1 + \\cdots + C^n_{n-1} + C^n_{n}$$\n",
        "\n",
        "This is also clear from the view-point of combinatorics:\n",
        "\n",
        "by counting in two ways, possible outcomes of making $n$ binary choices. "
      ],
      "metadata": {
        "id": "MSCnCxAHOUgr"
      }
    },
    {
      "cell_type": "markdown",
      "source": [
        "# Next episode: some bell shaped distributions\n",
        "\n",
        "What are bell shaped distributions?\n",
        "\n",
        "Understanding distributions takes some serious efforts. A bell shape is easier to see.\n",
        "\n",
        "Umm... look at the output under 3.4.1, rotate the first expansion by $90^\\circ$ (anti-clockwise). That's what a bell shape roughly looks like."
      ],
      "metadata": {
        "id": "YOIgvMWRZHf4"
      }
    }
  ]
}