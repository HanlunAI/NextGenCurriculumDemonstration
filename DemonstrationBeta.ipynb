{
  "nbformat": 4,
  "nbformat_minor": 0,
  "metadata": {
    "colab": {
      "name": "DemonstrationBeta.ipynb",
      "provenance": [],
      "collapsed_sections": [],
      "authorship_tag": "ABX9TyMOIygGS5VwWfOHa44DJA//",
      "include_colab_link": true
    },
    "kernelspec": {
      "name": "python3",
      "display_name": "Python 3"
    },
    "language_info": {
      "name": "python"
    }
  },
  "cells": [
    {
      "cell_type": "markdown",
      "metadata": {
        "id": "view-in-github",
        "colab_type": "text"
      },
      "source": [
        "<a href=\"https://colab.research.google.com/github/HanlunAI/NextGenCurriculumDemonstration/blob/main/DemonstrationBeta.ipynb\" target=\"_parent\"><img src=\"https://colab.research.google.com/assets/colab-badge.svg\" alt=\"Open In Colab\"/></a>"
      ]
    },
    {
      "cell_type": "markdown",
      "source": [
        "#Preface\n",
        "##Learn how to learn\n",
        "\n",
        "In the beginning, computers were invented with an aim to supplement human thinking methods, more specifically, to help us to think straight through the midst of complexity. In this series of demonstrations, we provide a journey of mathematical knowledge discovery accompanied with the nurturing of computer skills by the way. In practice, the Mathematics part will include some basic counting principles and statistics, and the Computer part will be some pre-written Python codes for high school students. Through this journey, you may develop you own style of exploration via self-experiment, peer learning, web-searching, etc.\n",
        "\n",
        "Demonstration materials in this series are by no means designed to be self-contained; but rather, we present some puzzles to guide the audience through a journey of learning. The author hoped audiences would enjoy this journey filling in the remaining details to construct their own knowledge base.\n",
        "\n",
        "-- YK Tai"
      ],
      "metadata": {
        "id": "BIbEHwVcWCTK"
      }
    },
    {
      "cell_type": "markdown",
      "source": [
        "*Acknowledgement*\n",
        "\n",
        "*The author would like to thank Bobby Poon for going through this material, giving feedback and hosting a workshop.*"
      ],
      "metadata": {
        "id": "r1qc6AxbJSeO"
      }
    },
    {
      "cell_type": "markdown",
      "source": [
        "#2. Permutation\n",
        "\n",
        "##2.1 Counting Permutations\n",
        "\n",
        "**2.1.1** Recall from DemonstrationAlpha, given a set of $n$ choices, and a positive number $ r\\leq n$, the number of making choices $r$ times in a row without repetition is given by the product of $r$ consecutive integers descending from $n$ (inclusively).\n",
        "\n",
        "We denote this number of permutations $P^n_r=n(n-1)...(n-r+1)$, \"read as $n$ permute $r$\" and is sometimes denoted as $nPr$. The notation also extends to the case $r=0$ by $P^n_0 = 1$."
      ],
      "metadata": {
        "id": "oICncxtmQ9G_"
      }
    },
    {
      "cell_type": "code",
      "source": [
        "def permute(n,r):\n",
        "  if r>n:\n",
        "    print(\"r should be no larger than n\")\n",
        "    return\n",
        "  choices = 1\n",
        "  for i in range(r):\n",
        "    choices *= n-i\n",
        "  return choices\n",
        "\n",
        "#assign integer values to variables\n",
        "n = 6\n",
        "r = 3\n",
        "print(\"{}P{} = {}.\".format(n,r,permute(n,r)))\n"
      ],
      "metadata": {
        "colab": {
          "base_uri": "https://localhost:8080/"
        },
        "id": "yxAwvTE3YYOL",
        "outputId": "8229052d-3f60-43eb-d9cc-8735e4f4e37a"
      },
      "execution_count": null,
      "outputs": [
        {
          "output_type": "stream",
          "name": "stdout",
          "text": [
            "6P3 = 120.\n"
          ]
        }
      ]
    },
    {
      "cell_type": "markdown",
      "source": [
        "**2.1.2** Checkpoints (try as many as you like, feel free to insert a code cell below to perform your own experiment):\n",
        "\n",
        "1.   When $n = r = 1$, we indeed resort to a unique choice.\n",
        "2.   When $n = r$, we call that case full permutation as all choices will be occupied in the no-repetition setup.\n",
        "3.   $nPr$ is useful in many combinatorics problems such as a matching problem of pairing up $n$ girls and $r$ guys with as few people left behind as possible. You may google for more applications.\n"
      ],
      "metadata": {
        "id": "HV6aP1rZ_gSi"
      }
    },
    {
      "cell_type": "markdown",
      "source": [
        "##2.2 Factorials and Notation\n",
        "\n",
        "**2.2.1** For counting full permutations, the factorial notation \"$!$\" comes in handy:\n",
        "$$n!=n \\times (n-1) \\times (n-2) \\times ... \\times 1$$\n",
        "\n",
        "The factorial notation also extends to include the case $0$ in the way that $0!=1$, the multiplicative identity.\n",
        "\n",
        "In such a way, we have the following recursion for all $n\\geq 1$,\n",
        "\n",
        "$$n!=n \\times (n-1)! $$\n",
        "\n",
        "Moreover, for $0 \\leq r \\leq n$, we may rewrite $nPr$ based on some factorials:\n",
        "\n",
        "$$nPr=n \\times (n-1) \\times ... \\times (n-r+1)=\\frac{n!}{(n-r)!}$$\n"
      ],
      "metadata": {
        "id": "IF0KwJrtnibd"
      }
    },
    {
      "cell_type": "code",
      "source": [
        "def factorial(n):\n",
        "  if n == 0:\n",
        "    return 1\n",
        "  return n*factorial(n-1)\n",
        "\n",
        "\"\"\"\n",
        "Read this block comment before you try to make any change to this code cell \n",
        "1. putting a dot after the integer will make computer interpret the input as floating point and also result in error\n",
        "2. any other invalid input may also lead to error\n",
        "3. factorial grow really fast, please avoid inputting too large an n\n",
        "4. otherwise, feel free to change n to other integers ranging from 0 to 100\n",
        "\"\"\"\n",
        "\n",
        "n=10\n",
        "print(\"{}!={}, which is a {}-digit number.\".format(n, factorial(n), len(str(factorial(n)))))"
      ],
      "metadata": {
        "colab": {
          "base_uri": "https://localhost:8080/"
        },
        "id": "gUYP_YrJnsb6",
        "outputId": "22a0d607-4288-4a03-8209-59035a4d5a21"
      },
      "execution_count": null,
      "outputs": [
        {
          "output_type": "stream",
          "name": "stdout",
          "text": [
            "10!=3628800, which is a 7-digit number.\n"
          ]
        }
      ]
    },
    {
      "cell_type": "code",
      "source": [
        "import math\n",
        "math.ceil(math.log10(factorial(n)+0.01))\n",
        "#you may also want to look up just math.log10(factorial(n)+0.01)"
      ],
      "metadata": {
        "colab": {
          "base_uri": "https://localhost:8080/"
        },
        "id": "e7Ay1ppdFLZ4",
        "outputId": "fda28003-121a-427c-a53a-da938a7d2a61"
      },
      "execution_count": null,
      "outputs": [
        {
          "output_type": "execute_result",
          "data": {
            "text/plain": [
              "7"
            ]
          },
          "metadata": {},
          "execution_count": 3
        }
      ]
    },
    {
      "cell_type": "markdown",
      "source": [
        "**2.2.2** Checkpoints (try as many as you like, feel free to insert a code cell below to perform your own experiment):\n",
        "\n",
        "1. The way we wrote the factorial function made use of a recurrence relation with an initialization, could you spot which lines correspond to which?\n",
        "2.   Try out different n and look up the number of digit, factorial is a function with grow really fast (interested audience may google for Stirling's formula)\n",
        "3. Check out the math package. Google it. Many useful functions are ready for us\n",
        "3.   Counting digits of factorial can be done with len(str(factorial(n))). Does it coincide with output of composition of the common logarithm function and a ceiling function with tiny increment importing? Why or why not? Is the tiny increment harmful or helpful?\n",
        "4.   Could you verify for some $0\\leq r\\leq n$, outputs of the \"permute\" function and the \"factorial\" function satisfy the equation $nPr=\\frac{n!}{(n-r)!}$?\n"
      ],
      "metadata": {
        "id": "igqemIptGDmk"
      }
    },
    {
      "cell_type": "markdown",
      "source": [
        "##2.3 Listing Full Permutation"
      ],
      "metadata": {
        "id": "n7ayLBiFntC-"
      }
    },
    {
      "cell_type": "markdown",
      "source": [
        "**2.3.1** Charles is a guy who won't believe it until he see it himself. \n",
        "\n",
        "Now let's list all full permutations. There are actually multiple ways of doing this. Theoretically, given $n$ choices, there are $n!$ full permutations, and the number of ways to list out all of them would be $(n!)!$. Now, we shall introduce at least some ways of listing. Due to limited resources, we shall support $n$ up to $8$."
      ],
      "metadata": {
        "id": "HAq2PZOcGCNC"
      }
    },
    {
      "cell_type": "code",
      "source": [
        "#Let's start with a list of distinct strings\n",
        "token = [\"A\",\"B\",\"C\",\"D\",\"E\",\"F\", \"G\", \"H\"]\n",
        "\n",
        "#Allow n = 0,1,2,3,4,5,6,7,8\n",
        "def switchingFullPermutation(n):\n",
        "  if n == 0:\n",
        "    return [\"\"]\n",
        "  previousList = switchingFullPermutation(n-1)\n",
        "  newChar = token[n-1]\n",
        "  newList = []\n",
        "  sign = -1\n",
        "  for i in range(len(previousList)):\n",
        "    insertNew = [previousList[i][0:j]+newChar+previousList[i][j:n] for j in range(n)] \n",
        "    if sign == -1:\n",
        "      insertNew.reverse()\n",
        "    newList =  newList + insertNew\n",
        "    sign *= -1\n",
        "  return newList\n",
        "\n",
        "def switchingFullPermutationPrint(n):\n",
        "  print(\"The following is a list of {}! = {} distinct full permutations given by SJT algorithm:\".format(str(n),str(factorial(n))), end = '\\n')\n",
        "  count = 0\n",
        "  longList = switchingFullPermutation(n)\n",
        "  for item in longList:\n",
        "    count += 1\n",
        "    print(str(count)+\".\\t\"+item, end = '\\n')\n",
        "  return\n",
        "\n",
        "#Allow n = 0,1,2,3,4,5,6,7,8\n",
        "n = 5\n",
        "switchingFullPermutationPrint(5)"
      ],
      "metadata": {
        "colab": {
          "base_uri": "https://localhost:8080/"
        },
        "id": "8fekMgl6nv7W",
        "outputId": "e8835b39-2c56-40eb-a04f-612c32b73cdc"
      },
      "execution_count": null,
      "outputs": [
        {
          "output_type": "stream",
          "name": "stdout",
          "text": [
            "The following is a list of 5! = 120 distinct full permutations given by SJT algorithm:\n",
            "1.\tABCDE\n",
            "2.\tABCED\n",
            "3.\tABECD\n",
            "4.\tAEBCD\n",
            "5.\tEABCD\n",
            "6.\tEABDC\n",
            "7.\tAEBDC\n",
            "8.\tABEDC\n",
            "9.\tABDEC\n",
            "10.\tABDCE\n",
            "11.\tADBCE\n",
            "12.\tADBEC\n",
            "13.\tADEBC\n",
            "14.\tAEDBC\n",
            "15.\tEADBC\n",
            "16.\tEDABC\n",
            "17.\tDEABC\n",
            "18.\tDAEBC\n",
            "19.\tDABEC\n",
            "20.\tDABCE\n",
            "21.\tDACBE\n",
            "22.\tDACEB\n",
            "23.\tDAECB\n",
            "24.\tDEACB\n",
            "25.\tEDACB\n",
            "26.\tEADCB\n",
            "27.\tAEDCB\n",
            "28.\tADECB\n",
            "29.\tADCEB\n",
            "30.\tADCBE\n",
            "31.\tACDBE\n",
            "32.\tACDEB\n",
            "33.\tACEDB\n",
            "34.\tAECDB\n",
            "35.\tEACDB\n",
            "36.\tEACBD\n",
            "37.\tAECBD\n",
            "38.\tACEBD\n",
            "39.\tACBED\n",
            "40.\tACBDE\n",
            "41.\tCABDE\n",
            "42.\tCABED\n",
            "43.\tCAEBD\n",
            "44.\tCEABD\n",
            "45.\tECABD\n",
            "46.\tECADB\n",
            "47.\tCEADB\n",
            "48.\tCAEDB\n",
            "49.\tCADEB\n",
            "50.\tCADBE\n",
            "51.\tCDABE\n",
            "52.\tCDAEB\n",
            "53.\tCDEAB\n",
            "54.\tCEDAB\n",
            "55.\tECDAB\n",
            "56.\tEDCAB\n",
            "57.\tDECAB\n",
            "58.\tDCEAB\n",
            "59.\tDCAEB\n",
            "60.\tDCABE\n",
            "61.\tDCBAE\n",
            "62.\tDCBEA\n",
            "63.\tDCEBA\n",
            "64.\tDECBA\n",
            "65.\tEDCBA\n",
            "66.\tECDBA\n",
            "67.\tCEDBA\n",
            "68.\tCDEBA\n",
            "69.\tCDBEA\n",
            "70.\tCDBAE\n",
            "71.\tCBDAE\n",
            "72.\tCBDEA\n",
            "73.\tCBEDA\n",
            "74.\tCEBDA\n",
            "75.\tECBDA\n",
            "76.\tECBAD\n",
            "77.\tCEBAD\n",
            "78.\tCBEAD\n",
            "79.\tCBAED\n",
            "80.\tCBADE\n",
            "81.\tBCADE\n",
            "82.\tBCAED\n",
            "83.\tBCEAD\n",
            "84.\tBECAD\n",
            "85.\tEBCAD\n",
            "86.\tEBCDA\n",
            "87.\tBECDA\n",
            "88.\tBCEDA\n",
            "89.\tBCDEA\n",
            "90.\tBCDAE\n",
            "91.\tBDCAE\n",
            "92.\tBDCEA\n",
            "93.\tBDECA\n",
            "94.\tBEDCA\n",
            "95.\tEBDCA\n",
            "96.\tEDBCA\n",
            "97.\tDEBCA\n",
            "98.\tDBECA\n",
            "99.\tDBCEA\n",
            "100.\tDBCAE\n",
            "101.\tDBACE\n",
            "102.\tDBAEC\n",
            "103.\tDBEAC\n",
            "104.\tDEBAC\n",
            "105.\tEDBAC\n",
            "106.\tEBDAC\n",
            "107.\tBEDAC\n",
            "108.\tBDEAC\n",
            "109.\tBDAEC\n",
            "110.\tBDACE\n",
            "111.\tBADCE\n",
            "112.\tBADEC\n",
            "113.\tBAEDC\n",
            "114.\tBEADC\n",
            "115.\tEBADC\n",
            "116.\tEBACD\n",
            "117.\tBEACD\n",
            "118.\tBAECD\n",
            "119.\tBACED\n",
            "120.\tBACDE\n"
          ]
        }
      ]
    },
    {
      "cell_type": "markdown",
      "source": [
        "**2.3.2** Checkpoints (try as many as you like, be careful if you want perform your own experiment):\n",
        "\n",
        "1.   Now, we see a list of full permutations for small $n$. Does the length of this list match our expectation? You may move on if you are satisfied with a simple \"yes\".\n",
        "2.   Try for a few small $n$, could you find the pattern in this way of listing? \n",
        "\n",
        "     If so, you will be able to answer the next few questions. \n",
        "\n",
        "     Otherwise, you may feel free to move on to another way of listing and see if you get more feelings there.\n",
        "\n",
        "3.   Are all items distinct?\n",
        "4.   Is every permutation included?\n",
        "5.   Could we see why the length of the list matches our expectation from its construction method?\n",
        "6.   Look up https://en.wikipedia.org/wiki/Steinhaus%E2%80%93Johnson%E2%80%93Trotter_algorithm\n",
        "7.   How does it compare with other systemic ways of listing all full permutations?"
      ],
      "metadata": {
        "id": "JgN05gKdTP2q"
      }
    },
    {
      "cell_type": "markdown",
      "source": [
        "**2.3.3** Another way of listing all full permutations:"
      ],
      "metadata": {
        "id": "lL2QzXpSaBC0"
      }
    },
    {
      "cell_type": "code",
      "source": [
        "#We could make use of the above result and easily re-order to an alphabetic ordering\n",
        "def alphabeticFullPermutationPrint(n):\n",
        "  print(\"The following is a list of {}! = {} distinct full permutation given by alphabetic order:\".format(str(n),str(factorial(n))), end = '\\n')\n",
        "  count = 0\n",
        "  longList = switchingFullPermutation(n)\n",
        "  longList.sort()\n",
        "  for item in longList:\n",
        "    count += 1\n",
        "    print(str(count)+\".\\t\"+item, end = '\\n')\n",
        "  return\n",
        "\n",
        "#another way of listing in alphabetic order directly is in the following commented block\n",
        "\"\"\"\n",
        "def alphabeticFullPermutation(n):\n",
        "  if n == 0:\n",
        "    return [\"\"]\n",
        "  previousList = alphabeticFullPermutation(n-1)\n",
        "  previousAbstract = [[token.index(string[i]) for i in range (n-1)] for string in previousList]\n",
        "  newList = []\n",
        "  for i in range(n):\n",
        "    iAdapt = [[token[index] if index<i else token[index+1] for index in abstract] for abstract in previousAbstract]\n",
        "    iAdapt = [''.join(abstract) for abstract in iAdapt]\n",
        "    iStart = [token[i]+adapt for adapt in iAdapt]\n",
        "    newList = newList + iStart\n",
        "  return newList\n",
        "def alphabeticFullPermutationPrint(n):\n",
        "  print(\"The following is a list of \"+str(n)+\"!\"+\" = \"+str(factorial(n))+\" distinct full permutations given by alphabetic order:\", end = '\\n')\n",
        "  count = 0\n",
        "  longList = alphabeticFullPermutation(n)\n",
        "  for item in longList:\n",
        "    count += 1\n",
        "    print(str(count)+\".\\t\"+item, end = '\\n')\n",
        "  return\n",
        "\"\"\"\n",
        "\n",
        "#Allow n = 0,1,2,3,4,5,6,7,8\n",
        "n = 5\n",
        "alphabeticFullPermutationPrint(n)"
      ],
      "metadata": {
        "colab": {
          "base_uri": "https://localhost:8080/"
        },
        "id": "VsBygfBZXi-3",
        "outputId": "b31d8b32-4939-485c-868a-6cbb8bb5dc0f"
      },
      "execution_count": null,
      "outputs": [
        {
          "output_type": "stream",
          "name": "stdout",
          "text": [
            "The following is a list of 5! = 120 distinct full permutation given by alphabetic order:\n",
            "1.\tABCDE\n",
            "2.\tABCED\n",
            "3.\tABDCE\n",
            "4.\tABDEC\n",
            "5.\tABECD\n",
            "6.\tABEDC\n",
            "7.\tACBDE\n",
            "8.\tACBED\n",
            "9.\tACDBE\n",
            "10.\tACDEB\n",
            "11.\tACEBD\n",
            "12.\tACEDB\n",
            "13.\tADBCE\n",
            "14.\tADBEC\n",
            "15.\tADCBE\n",
            "16.\tADCEB\n",
            "17.\tADEBC\n",
            "18.\tADECB\n",
            "19.\tAEBCD\n",
            "20.\tAEBDC\n",
            "21.\tAECBD\n",
            "22.\tAECDB\n",
            "23.\tAEDBC\n",
            "24.\tAEDCB\n",
            "25.\tBACDE\n",
            "26.\tBACED\n",
            "27.\tBADCE\n",
            "28.\tBADEC\n",
            "29.\tBAECD\n",
            "30.\tBAEDC\n",
            "31.\tBCADE\n",
            "32.\tBCAED\n",
            "33.\tBCDAE\n",
            "34.\tBCDEA\n",
            "35.\tBCEAD\n",
            "36.\tBCEDA\n",
            "37.\tBDACE\n",
            "38.\tBDAEC\n",
            "39.\tBDCAE\n",
            "40.\tBDCEA\n",
            "41.\tBDEAC\n",
            "42.\tBDECA\n",
            "43.\tBEACD\n",
            "44.\tBEADC\n",
            "45.\tBECAD\n",
            "46.\tBECDA\n",
            "47.\tBEDAC\n",
            "48.\tBEDCA\n",
            "49.\tCABDE\n",
            "50.\tCABED\n",
            "51.\tCADBE\n",
            "52.\tCADEB\n",
            "53.\tCAEBD\n",
            "54.\tCAEDB\n",
            "55.\tCBADE\n",
            "56.\tCBAED\n",
            "57.\tCBDAE\n",
            "58.\tCBDEA\n",
            "59.\tCBEAD\n",
            "60.\tCBEDA\n",
            "61.\tCDABE\n",
            "62.\tCDAEB\n",
            "63.\tCDBAE\n",
            "64.\tCDBEA\n",
            "65.\tCDEAB\n",
            "66.\tCDEBA\n",
            "67.\tCEABD\n",
            "68.\tCEADB\n",
            "69.\tCEBAD\n",
            "70.\tCEBDA\n",
            "71.\tCEDAB\n",
            "72.\tCEDBA\n",
            "73.\tDABCE\n",
            "74.\tDABEC\n",
            "75.\tDACBE\n",
            "76.\tDACEB\n",
            "77.\tDAEBC\n",
            "78.\tDAECB\n",
            "79.\tDBACE\n",
            "80.\tDBAEC\n",
            "81.\tDBCAE\n",
            "82.\tDBCEA\n",
            "83.\tDBEAC\n",
            "84.\tDBECA\n",
            "85.\tDCABE\n",
            "86.\tDCAEB\n",
            "87.\tDCBAE\n",
            "88.\tDCBEA\n",
            "89.\tDCEAB\n",
            "90.\tDCEBA\n",
            "91.\tDEABC\n",
            "92.\tDEACB\n",
            "93.\tDEBAC\n",
            "94.\tDEBCA\n",
            "95.\tDECAB\n",
            "96.\tDECBA\n",
            "97.\tEABCD\n",
            "98.\tEABDC\n",
            "99.\tEACBD\n",
            "100.\tEACDB\n",
            "101.\tEADBC\n",
            "102.\tEADCB\n",
            "103.\tEBACD\n",
            "104.\tEBADC\n",
            "105.\tEBCAD\n",
            "106.\tEBCDA\n",
            "107.\tEBDAC\n",
            "108.\tEBDCA\n",
            "109.\tECABD\n",
            "110.\tECADB\n",
            "111.\tECBAD\n",
            "112.\tECBDA\n",
            "113.\tECDAB\n",
            "114.\tECDBA\n",
            "115.\tEDABC\n",
            "116.\tEDACB\n",
            "117.\tEDBAC\n",
            "118.\tEDBCA\n",
            "119.\tEDCAB\n",
            "120.\tEDCBA\n"
          ]
        }
      ]
    },
    {
      "cell_type": "markdown",
      "source": [
        "**2.3.4** Checkpoints:\n",
        "\n",
        "1.   Now, we see another list of full permutations for small $n$. Does the length of this list match our expectation?\n",
        "2.   Try for a few small $n$, could you find the pattern in this way of listing?\n",
        "3.   Are all items distinct?\n",
        "4.   Is every permutation included?\n",
        "5.   Could you see why the length of the list matches our expectation from its construction method?"
      ],
      "metadata": {
        "id": "CovDQeclaWw4"
      }
    },
    {
      "cell_type": "markdown",
      "source": [
        "**2.3.5** Checkout:\n",
        "After kind of understand what is happening behind the scene, we may feel comfortable to import some tool from some common Python package."
      ],
      "metadata": {
        "id": "YSSBQx-YdGSt"
      }
    },
    {
      "cell_type": "code",
      "source": [
        "from itertools import permutations\n",
        "print(\"We may use the permutation function from the Python package 'itertools' to list all 3!={} permutations on 3 objects:\".format(factorial(3)))\n",
        "print(list(permutations(\"ABC\")))"
      ],
      "metadata": {
        "colab": {
          "base_uri": "https://localhost:8080/"
        },
        "id": "qjxQHWe1cpuB",
        "outputId": "88370aa9-99dd-4ada-f26b-edfce3cf88c6"
      },
      "execution_count": null,
      "outputs": [
        {
          "output_type": "stream",
          "name": "stdout",
          "text": [
            "We may use the permutation function from the Python package 'itertools' to list all 3!=6 permutations on 3 objects:\n",
            "[('A', 'B', 'C'), ('A', 'C', 'B'), ('B', 'A', 'C'), ('B', 'C', 'A'), ('C', 'A', 'B'), ('C', 'B', 'A')]\n"
          ]
        }
      ]
    },
    {
      "cell_type": "markdown",
      "source": [
        "##2.4 Coming soon: spoiler of the next demonstration\n",
        "Re-think about this problem:\n",
        "\n",
        "Someone is going for tea time alone $3$ days in a row, the choices for each day are the same set of $6$ choices.  No repetition is wanted, then how many scenarios are there for these $3$ days? What will be the answer if we disregard the order of his choices in these $3$ days?"
      ],
      "metadata": {
        "id": "_cRCtCxwbHKs"
      }
    }
  ]
}