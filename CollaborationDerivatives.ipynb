{
  "nbformat": 4,
  "nbformat_minor": 0,
  "metadata": {
    "colab": {
      "name": "CollaborationDerivatives.ipynb",
      "provenance": [],
      "collapsed_sections": [],
      "authorship_tag": "ABX9TyMdaXDpH5cLopM0/9Nfb7nn",
      "include_colab_link": true
    },
    "kernelspec": {
      "name": "python3",
      "display_name": "Python 3"
    },
    "language_info": {
      "name": "python"
    }
  },
  "cells": [
    {
      "cell_type": "markdown",
      "metadata": {
        "id": "view-in-github",
        "colab_type": "text"
      },
      "source": [
        "<a href=\"https://colab.research.google.com/github/HanlunAI/NextGenCurriculumDemonstration/blob/main/CollaborationDerivatives.ipynb\" target=\"_parent\"><img src=\"https://colab.research.google.com/assets/colab-badge.svg\" alt=\"Open In Colab\"/></a>"
      ]
    },
    {
      "cell_type": "markdown",
      "source": [
        "This notebook is a bookkeeping of some interesting problems arising from sitting in SPC summer workshop."
      ],
      "metadata": {
        "id": "ZCoTvLsioxFx"
      }
    },
    {
      "cell_type": "markdown",
      "source": [
        "(A) Fibonacci sequence and the golden ratio"
      ],
      "metadata": {
        "id": "iRLa5OQp_pf1"
      }
    },
    {
      "cell_type": "code",
      "source": [
        "fibonacciRecord = [1,1]\n",
        "def nextFibonacci():\n",
        "  fibonacciRecord.append(fibonacciRecord[-1]+fibonacciRecord[-2])\n",
        "  return\n",
        "\n",
        "ratioRecord = []\n",
        "for i in range(100):\n",
        "  nextFibonacci()\n",
        "  ratioRecord.append(fibonacciRecord[i+1]/fibonacciRecord[i])\n",
        "  print(fibonacciRecord[i], fibonacciRecord[i+1]/fibonacciRecord[i])"
      ],
      "metadata": {
        "colab": {
          "base_uri": "https://localhost:8080/"
        },
        "id": "kmnJNWNeq2JV",
        "outputId": "670d0870-a44d-4428-ce01-432c81084327"
      },
      "execution_count": null,
      "outputs": [
        {
          "output_type": "stream",
          "name": "stdout",
          "text": [
            "1 1.0\n",
            "1 2.0\n",
            "2 1.5\n",
            "3 1.6666666666666667\n",
            "5 1.6\n",
            "8 1.625\n",
            "13 1.6153846153846154\n",
            "21 1.619047619047619\n",
            "34 1.6176470588235294\n",
            "55 1.6181818181818182\n",
            "89 1.6179775280898876\n",
            "144 1.6180555555555556\n",
            "233 1.6180257510729614\n",
            "377 1.6180371352785146\n",
            "610 1.618032786885246\n",
            "987 1.618034447821682\n",
            "1597 1.6180338134001253\n",
            "2584 1.618034055727554\n",
            "4181 1.6180339631667064\n",
            "6765 1.6180339985218033\n",
            "10946 1.618033985017358\n",
            "17711 1.6180339901755971\n",
            "28657 1.618033988205325\n",
            "46368 1.618033988957902\n",
            "75025 1.6180339886704431\n",
            "121393 1.6180339887802426\n",
            "196418 1.618033988738303\n",
            "317811 1.6180339887543225\n",
            "514229 1.6180339887482036\n",
            "832040 1.6180339887505408\n",
            "1346269 1.6180339887496482\n",
            "2178309 1.618033988749989\n",
            "3524578 1.618033988749859\n",
            "5702887 1.6180339887499087\n",
            "9227465 1.6180339887498896\n",
            "14930352 1.618033988749897\n",
            "24157817 1.618033988749894\n",
            "39088169 1.6180339887498951\n",
            "63245986 1.6180339887498947\n",
            "102334155 1.618033988749895\n",
            "165580141 1.618033988749895\n",
            "267914296 1.618033988749895\n",
            "433494437 1.618033988749895\n",
            "701408733 1.618033988749895\n",
            "1134903170 1.618033988749895\n",
            "1836311903 1.618033988749895\n",
            "2971215073 1.618033988749895\n",
            "4807526976 1.618033988749895\n",
            "7778742049 1.618033988749895\n",
            "12586269025 1.618033988749895\n",
            "20365011074 1.618033988749895\n",
            "32951280099 1.618033988749895\n",
            "53316291173 1.618033988749895\n",
            "86267571272 1.618033988749895\n",
            "139583862445 1.618033988749895\n",
            "225851433717 1.618033988749895\n",
            "365435296162 1.618033988749895\n",
            "591286729879 1.618033988749895\n",
            "956722026041 1.618033988749895\n",
            "1548008755920 1.618033988749895\n",
            "2504730781961 1.618033988749895\n",
            "4052739537881 1.618033988749895\n",
            "6557470319842 1.618033988749895\n",
            "10610209857723 1.618033988749895\n",
            "17167680177565 1.618033988749895\n",
            "27777890035288 1.618033988749895\n",
            "44945570212853 1.618033988749895\n",
            "72723460248141 1.618033988749895\n",
            "117669030460994 1.618033988749895\n",
            "190392490709135 1.618033988749895\n",
            "308061521170129 1.618033988749895\n",
            "498454011879264 1.618033988749895\n",
            "806515533049393 1.618033988749895\n",
            "1304969544928657 1.618033988749895\n",
            "2111485077978050 1.618033988749895\n",
            "3416454622906707 1.618033988749895\n",
            "5527939700884757 1.618033988749895\n",
            "8944394323791464 1.618033988749895\n",
            "14472334024676221 1.618033988749895\n",
            "23416728348467685 1.618033988749895\n",
            "37889062373143906 1.618033988749895\n",
            "61305790721611591 1.618033988749895\n",
            "99194853094755497 1.618033988749895\n",
            "160500643816367088 1.618033988749895\n",
            "259695496911122585 1.618033988749895\n",
            "420196140727489673 1.618033988749895\n",
            "679891637638612258 1.618033988749895\n",
            "1100087778366101931 1.618033988749895\n",
            "1779979416004714189 1.618033988749895\n",
            "2880067194370816120 1.618033988749895\n",
            "4660046610375530309 1.618033988749895\n",
            "7540113804746346429 1.618033988749895\n",
            "12200160415121876738 1.618033988749895\n",
            "19740274219868223167 1.618033988749895\n",
            "31940434634990099905 1.618033988749895\n",
            "51680708854858323072 1.618033988749895\n",
            "83621143489848422977 1.618033988749895\n",
            "135301852344706746049 1.618033988749895\n",
            "218922995834555169026 1.618033988749895\n",
            "354224848179261915075 1.618033988749895\n"
          ]
        }
      ]
    },
    {
      "cell_type": "code",
      "source": [
        "import matplotlib.pyplot as plt\n",
        "plt.plot(ratioRecord)"
      ],
      "metadata": {
        "colab": {
          "base_uri": "https://localhost:8080/",
          "height": 282
        },
        "id": "5UCOVtJMD7wA",
        "outputId": "261379c9-737a-45ce-ce31-d54aa06caf5a"
      },
      "execution_count": null,
      "outputs": [
        {
          "output_type": "execute_result",
          "data": {
            "text/plain": [
              "[<matplotlib.lines.Line2D at 0x7f87595bcb90>]"
            ]
          },
          "metadata": {},
          "execution_count": 33
        },
        {
          "output_type": "display_data",
          "data": {
            "text/plain": [
              "<Figure size 432x288 with 1 Axes>"
            ],
            "image/png": "[encoded data removed]"
          },
          "metadata": {
            "needs_background": "light"
          }
        }
      ]
    },
    {
      "cell_type": "markdown",
      "source": [
        "(B) The silver ratio is one of the fixed points of \n",
        "\n",
        "$$F(x) = 2+\\frac{1}{x}$$\n",
        "\n",
        "Let's play with some iterations."
      ],
      "metadata": {
        "id": "dhanpOS0_ier"
      }
    },
    {
      "cell_type": "code",
      "source": [
        "import numpy as np\n",
        "\n",
        "def iterateF(x):\n",
        "  return 2+1/x\n",
        "\n",
        "n = 20\n",
        "iteration = 6\n",
        "iterateRecord = np.empty([iteration+1, n])\n",
        "iterateRecord[0] = np.linspace(-11, 11, num=n)\n",
        "\n",
        "for i in range(iteration):\n",
        "  iterateRecord[i+1] = iterateF(iterateRecord[i])\n",
        "\n",
        "iterateRecord = np.transpose(iterateRecord)\n",
        "print(iterateRecord)"
      ],
      "metadata": {
        "id": "rN7V1nxqKDcB",
        "colab": {
          "base_uri": "https://localhost:8080/"
        },
        "outputId": "b89729d2-d3b7-4a20-e63d-12192dcf8ea5"
      },
      "execution_count": 132,
      "outputs": [
        {
          "output_type": "stream",
          "name": "stdout",
          "text": [
            "[[-11.           1.90909091   2.52380952   2.39622642   2.41732283\n",
            "    2.41368078   2.41430499]\n",
            " [ -9.84210526   1.89839572   2.52676056   2.39576366   2.41740344\n",
            "    2.41366699   2.41430736]\n",
            " [ -8.68421053   1.88484848   2.53054662   2.39517154   2.41750663\n",
            "    2.41364933   2.41431039]\n",
            " [ -7.52631579   1.86713287   2.53558052   2.394387     2.41764343\n",
            "    2.41362592   2.41431441]\n",
            " [ -6.36842105   1.84297521   2.5426009    2.39329806   2.41783346\n",
            "    2.41359342   2.41431999]\n",
            " [ -5.21052632   1.80808081   2.55307263   2.3916849    2.41811528\n",
            "    2.41354521   2.41432826]\n",
            " [ -4.05263158   1.75324675   2.57037037   2.38904899   2.4185766\n",
            "    2.41346633   2.41434181]\n",
            " [ -2.89473684   1.65454545   2.6043956    2.38396624   2.41946903\n",
            "    2.41331383   2.41436799]\n",
            " [ -1.73684211   1.42424242   2.70212766   2.37007874   2.42192691\n",
            "    2.41289438   2.41444002]\n",
            " [ -0.57894737   0.27272727   5.66666667   2.17647059   2.45945946\n",
            "    2.40659341   2.41552511]\n",
            " [  0.57894737   3.72727273   2.26829268   2.44086022   2.40969163\n",
            "    2.41499086   2.41408024]\n",
            " [  1.73684211   2.57575758   2.38823529   2.41871921   2.41344196\n",
            "    2.41434599   2.41419084]\n",
            " [  2.89473684   2.34545455   2.42635659   2.41214058   2.41456954\n",
            "    2.4141525    2.41422404]\n",
            " [  4.05263158   2.24675325   2.44508671   2.40898345   2.41511286\n",
            "    2.41405933   2.41424003]\n",
            " [  5.21052632   2.19191919   2.4562212    2.40712946   2.41543258\n",
            "    2.41400452   2.41424943]\n",
            " [  6.36842105   2.15702479   2.46360153   2.4059098    2.41564318\n",
            "    2.41396842   2.41425563]\n",
            " [  7.52631579   2.13286713   2.46885246   2.40504648   2.41579238\n",
            "    2.41394286   2.41426001]\n",
            " [  8.68421053   2.11515152   2.47277937   2.40440324   2.41590361\n",
            "    2.4139238    2.41426328]\n",
            " [  9.84210526   2.10160428   2.47582697   2.40390545   2.41598974\n",
            "    2.41390904   2.41426582]\n",
            " [ 11.           2.09090909   2.47826087   2.40350877   2.41605839\n",
            "    2.41389728   2.41426783]]\n"
          ]
        }
      ]
    },
    {
      "cell_type": "code",
      "source": [
        "import matplotlib.pyplot as plt\n",
        "for i in range(n):\n",
        "  plt.plot(iterateRecord[i])"
      ],
      "metadata": {
        "colab": {
          "base_uri": "https://localhost:8080/",
          "height": 265
        },
        "id": "L7rSlIDFEGxz",
        "outputId": "7b429b34-197d-4636-f4af-d3b75f0e033e"
      },
      "execution_count": 133,
      "outputs": [
        {
          "output_type": "display_data",
          "data": {
            "text/plain": [
              "<Figure size 432x288 with 1 Axes>"
            ],
            "image/png": "[encoded data removed]"
          },
          "metadata": {
            "needs_background": "light"
          }
        }
      ]
    },
    {
      "cell_type": "markdown",
      "source": [
        "While the above plot shows how different starting points converge to the silver ratio as an attracting fixed point, something interesting is happening near another repelling fixed point. There will be an example of how rounding error would accumulate by iterating many times."
      ],
      "metadata": {
        "id": "jc-61vkyY9dS"
      }
    },
    {
      "cell_type": "code",
      "source": [
        "#something interesting is happening near another (repelling) fixed point\n",
        "n = 9\n",
        "#it will be an example of how rounding error would accumulate by iterating many times, say 25\n",
        "iteration = 25\n",
        "iterateRecord = np.empty([iteration+1, n*2])\n",
        "belowAnotherFixedPoint = np.linspace(1-np.sqrt(2)-0.3, 1-np.sqrt(2), num=n)\n",
        "aboveAnotherFixedPoint = np.linspace(1-np.sqrt(2), 1-np.sqrt(2)+0.3, num=n)\n",
        "iterateRecord[0] = np.append(belowAnotherFixedPoint, aboveAnotherFixedPoint)\n",
        "\n",
        "for i in range(iteration):\n",
        "  iterateRecord[i+1] = iterateF(iterateRecord[i])\n",
        "\n",
        "iterateRecord = np.transpose(iterateRecord)\n",
        "print(iterateRecord)\n",
        "\n",
        "import matplotlib.pyplot as plt\n",
        "for i in range(n*2):\n",
        "  plt.plot(iterateRecord[i])"
      ],
      "metadata": {
        "colab": {
          "base_uri": "https://localhost:8080/",
          "height": 1000
        },
        "id": "edyz_e2MEJrH",
        "outputId": "4def7b20-cf50-4718-f92b-00e724e0a2ee"
      },
      "execution_count": 136,
      "outputs": [
        {
          "output_type": "stream",
          "name": "stdout",
          "text": [
            "[[ -0.71421356   0.59985857   3.66705963   2.27269805   2.44000566\n",
            "    2.40983512   2.41496615   2.41408448   2.41423571   2.41420976\n",
            "    2.41421421   2.41421345   2.41421358   2.41421356   2.41421356\n",
            "    2.41421356   2.41421356   2.41421356   2.41421356   2.41421356\n",
            "    2.41421356   2.41421356   2.41421356   2.41421356   2.41421356\n",
            "    2.41421356]\n",
            " [ -0.67671356   0.5222699    3.91471881   2.25544619   2.44337125\n",
            "    2.40927059   2.41506338   2.41406781   2.41423857   2.41420927\n",
            "    2.4142143    2.41421344   2.41421358   2.41421356   2.41421356\n",
            "    2.41421356   2.41421356   2.41421356   2.41421356   2.41421356\n",
            "    2.41421356   2.41421356   2.41421356   2.41421356   2.41421356\n",
            "    2.41421356]\n",
            " [ -0.63921356   0.43557762   4.29580204   2.2327854    2.44787108\n",
            "    2.40851825   2.41519303   2.41404558   2.41424239   2.41420862\n",
            "    2.41421441   2.41421342   2.41421359   2.41421356   2.41421356\n",
            "    2.41421356   2.41421356   2.41421356   2.41421356   2.41421356\n",
            "    2.41421356   2.41421356   2.41421356   2.41421356   2.41421356\n",
            "    2.41421356]\n",
            " [ -0.60171356   0.33807967   4.95788265   2.20169901   2.45419469\n",
            "    2.40746564   2.41537457   2.41401446   2.41424773   2.4142077\n",
            "    2.41421457   2.41421339   2.41421359   2.41421356   2.41421356\n",
            "    2.41421356   2.41421356   2.41421356   2.41421356   2.41421356\n",
            "    2.41421356   2.41421356   2.41421356   2.41421356   2.41421356\n",
            "    2.41421356]\n",
            " [ -0.56421356   0.22762148   6.39325854   2.15641476   2.46373268\n",
            "    2.40588819   2.41564691   2.41396778   2.41425574   2.41420633\n",
            "    2.4142148    2.41421335   2.4142136    2.41421356   2.41421356\n",
            "    2.41421356   2.41421356   2.41421356   2.41421356   2.41421356\n",
            "    2.41421356   2.41421356   2.41421356   2.41421356   2.41421356\n",
            "    2.41421356]\n",
            " [ -0.52671356   0.10143488  11.85854217   2.0843274    2.47977108\n",
            "    2.40326303   2.41610094   2.41388999   2.41426909   2.41420404\n",
            "    2.4142152    2.41421328   2.41421361   2.41421355   2.41421356\n",
            "    2.41421356   2.41421356   2.41421356   2.41421356   2.41421356\n",
            "    2.41421356   2.41421356   2.41421356   2.41421356   2.41421356\n",
            "    2.41421356]\n",
            " [ -0.48921356  -0.04409705 -20.67725357   1.95163768   2.51239019\n",
            "    2.39802735   2.41700942   2.41373442   2.41429579   2.41419946\n",
            "    2.41421598   2.41421315   2.41421363   2.41421355   2.41421356\n",
            "    2.41421356   2.41421356   2.41421356   2.41421356   2.41421356\n",
            "    2.41421356   2.41421356   2.41421356   2.41421356   2.41421356\n",
            "    2.41421356]\n",
            " [ -0.45171356  -0.21379229  -2.67743723   1.62650852   2.61481387\n",
            "    2.3824364    2.41973838   2.41326782   2.41437589   2.41418571\n",
            "    2.41421834   2.41421274   2.4142137    2.41421354   2.41421357\n",
            "    2.41421356   2.41421356   2.41421356   2.41421356   2.41421356\n",
            "    2.41421356   2.41421356   2.41421356   2.41421356   2.41421356\n",
            "    2.41421356]\n",
            " [ -0.41421356  -0.41421356  -0.41421356  -0.41421356  -0.41421356\n",
            "   -0.41421356  -0.41421356  -0.41421356  -0.41421356  -0.41421356\n",
            "   -0.41421357  -0.41421354  -0.41421372  -0.41421265  -0.41421886\n",
            "   -0.41418268  -0.41439358  -0.41316482  -0.42034161  -0.37901736\n",
            "   -0.63840156   0.43358779   4.30633802   2.23221586   2.44798535\n",
            "    2.40849918]\n",
            " [ -0.41421356  -0.41421356  -0.41421356  -0.41421356  -0.41421356\n",
            "   -0.41421356  -0.41421356  -0.41421356  -0.41421356  -0.41421356\n",
            "   -0.41421357  -0.41421354  -0.41421372  -0.41421265  -0.41421886\n",
            "   -0.41418268  -0.41439358  -0.41316482  -0.42034161  -0.37901736\n",
            "   -0.63840156   0.43358779   4.30633802   2.23221586   2.44798535\n",
            "    2.40849918]\n",
            " [ -0.37671356  -0.65453676   0.47220193   4.11773805   2.24285178\n",
            "    2.44586094   2.40885399   2.41513517   2.4140555    2.41424068\n",
            "    2.41420891   2.41421436   2.41421343   2.41421359   2.41421356\n",
            "    2.41421356   2.41421356   2.41421356   2.41421356   2.41421356\n",
            "    2.41421356   2.41421356   2.41421356   2.41421356   2.41421356\n",
            "    2.41421356]\n",
            " [ -0.33921356  -0.94799534   0.94514249   3.05804152   2.32700668\n",
            "    2.42973663   2.41156724   2.4146681    2.41413559   2.41422694\n",
            "    2.41421127   2.41421396   2.41421349   2.41421357   2.41421356\n",
            "    2.41421356   2.41421356   2.41421356   2.41421356   2.41421356\n",
            "    2.41421356   2.41421356   2.41421356   2.41421356   2.41421356\n",
            "    2.41421356]\n",
            " [ -0.30171356  -1.31440189   1.23919768   2.80697375   2.35625556\n",
            "    2.42440218   2.41247282   2.41451244   2.41416229   2.41422236\n",
            "    2.41421205   2.41421382   2.41421352   2.41421357   2.41421356\n",
            "    2.41421356   2.41421356   2.41421356   2.41421356   2.41421356\n",
            "    2.41421356   2.41421356   2.41421356   2.41421356   2.41421356\n",
            "    2.41421356]\n",
            " [ -0.26421356  -1.78481707   1.43971849   2.69458023   2.37111532\n",
            "    2.42174246   2.41292582   2.41443462   2.41417564   2.41422007\n",
            "    2.41421245   2.41421375   2.41421353   2.41421357   2.41421356\n",
            "    2.41421356   2.41421356   2.41421356   2.41421356   2.41421356\n",
            "    2.41421356   2.41421356   2.41421356   2.41421356   2.41421356\n",
            "    2.41421356]\n",
            " [ -0.22671356  -2.41085213   1.5852089    2.63083168   2.38010794\n",
            "    2.42014901   2.4131977    2.41438793   2.41418365   2.41421869\n",
            "    2.41421268   2.41421371   2.41421354   2.41421357   2.41421356\n",
            "    2.41421356   2.41421356   2.41421356   2.41421356   2.41421356\n",
            "    2.41421356   2.41421356   2.41421356   2.41421356   2.41421356\n",
            "    2.41421356]\n",
            " [ -0.18921356  -3.28503342   1.69558909   2.58976553   2.38613534\n",
            "    2.41908771   2.41337898   2.4143568    2.41418899   2.41421778\n",
            "    2.41421284   2.41421369   2.41421354   2.41421357   2.41421356\n",
            "    2.41421356   2.41421356   2.41421356   2.41421356   2.41421356\n",
            "    2.41421356   2.41421356   2.41421356   2.41421356   2.41421356\n",
            "    2.41421356]\n",
            " [ -0.15171356  -4.59136853   1.78220001   2.56110425   2.39045658\n",
            "    2.41833013   2.41350847   2.41433457   2.4141928    2.41421712\n",
            "    2.41421295   2.41421367   2.41421354   2.41421357   2.41421356\n",
            "    2.41421356   2.41421356   2.41421356   2.41421356   2.41421356\n",
            "    2.41421356   2.41421356   2.41421356   2.41421356   2.41421356\n",
            "    2.41421356]\n",
            " [ -0.11421356  -6.75552762   1.85197307   2.53996465   2.39370627\n",
            "    2.4177622    2.41360561   2.4143179    2.41419566   2.41421663\n",
            "    2.41421304   2.41421365   2.41421355   2.41421357   2.41421356\n",
            "    2.41421356   2.41421356   2.41421356   2.41421356   2.41421356\n",
            "    2.41421356   2.41421356   2.41421356   2.41421356   2.41421356\n",
            "    2.41421356]]\n"
          ]
        },
        {
          "output_type": "display_data",
          "data": {
            "text/plain": [
              "<Figure size 432x288 with 1 Axes>"
            ],
            "image/png": "[encoded data removed]"
          },
          "metadata": {
            "needs_background": "light"
          }
        }
      ]
    },
    {
      "cell_type": "markdown",
      "source": [
        "(C) Comming Soon\n",
        "\n",
        "Sieve of Eratosthenes: in memory of a tea time gathering"
      ],
      "metadata": {
        "id": "V3UhMzQ2Yjy_"
      }
    },
    {
      "cell_type": "code",
      "source": [
        ""
      ],
      "metadata": {
        "id": "pJ3NIdMSY5LO"
      },
      "execution_count": null,
      "outputs": []
    }
  ]
}