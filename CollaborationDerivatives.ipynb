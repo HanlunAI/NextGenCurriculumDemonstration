{
  "nbformat": 4,
  "nbformat_minor": 0,
  "metadata": {
    "colab": {
      "name": "CollaborationDerivatives.ipynb",
      "provenance": [],
      "collapsed_sections": [],
      "authorship_tag": "ABX9TyML9SRv65731H7OVq2VmX1s",
      "include_colab_link": true
    },
    "kernelspec": {
      "name": "python3",
      "display_name": "Python 3"
    },
    "language_info": {
      "name": "python"
    }
  },
  "cells": [
    {
      "cell_type": "markdown",
      "metadata": {
        "id": "view-in-github",
        "colab_type": "text"
      },
      "source": [
        "<a href=\"https://colab.research.google.com/github/HanlunAI/NextGenCurriculumDemonstration/blob/main/CollaborationDerivatives.ipynb\" target=\"_parent\"><img src=\"https://colab.research.google.com/assets/colab-badge.svg\" alt=\"Open In Colab\"/></a>"
      ]
    },
    {
      "cell_type": "markdown",
      "source": [
        "This notbook is a bookkeeping of some interesting problems arising from sitting in Bobby Poon's summer workshop."
      ],
      "metadata": {
        "id": "ZCoTvLsioxFx"
      }
    },
    {
      "cell_type": "code",
      "source": [
        "fibonacciRecord = [1,1]\n",
        "def nextFibonacci(n):\n",
        "  if len(fibonacciRecord)>n:\n",
        "    return\n",
        "  fibonacciRecord.append(fibonacciRecord[-1]+fibonacciRecord[-2])\n",
        "  return\n",
        "\n",
        "ratioRecord = []\n",
        "for i in range(100):\n",
        "  nextFibonacci(i+1)\n",
        "  ratioRecord.append(fibonacciRecord[i+1]/fibonacciRecord[i])\n",
        "  print(fibonacciRecord[i], fibonacciRecord[i+1]/fibonacciRecord[i])"
      ],
      "metadata": {
        "colab": {
          "base_uri": "https://localhost:8080/"
        },
        "id": "kmnJNWNeq2JV",
        "outputId": "2f416cbe-fd02-4f74-8584-aa6931a7b5b3"
      },
      "execution_count": 30,
      "outputs": [
        {
          "output_type": "stream",
          "name": "stdout",
          "text": [
            "1 1.0\n",
            "1 2.0\n",
            "2 1.5\n",
            "3 1.6666666666666667\n",
            "5 1.6\n",
            "8 1.625\n",
            "13 1.6153846153846154\n",
            "21 1.619047619047619\n",
            "34 1.6176470588235294\n",
            "55 1.6181818181818182\n",
            "89 1.6179775280898876\n",
            "144 1.6180555555555556\n",
            "233 1.6180257510729614\n",
            "377 1.6180371352785146\n",
            "610 1.618032786885246\n",
            "987 1.618034447821682\n",
            "1597 1.6180338134001253\n",
            "2584 1.618034055727554\n",
            "4181 1.6180339631667064\n",
            "6765 1.6180339985218033\n",
            "10946 1.618033985017358\n",
            "17711 1.6180339901755971\n",
            "28657 1.618033988205325\n",
            "46368 1.618033988957902\n",
            "75025 1.6180339886704431\n",
            "121393 1.6180339887802426\n",
            "196418 1.618033988738303\n",
            "317811 1.6180339887543225\n",
            "514229 1.6180339887482036\n",
            "832040 1.6180339887505408\n",
            "1346269 1.6180339887496482\n",
            "2178309 1.618033988749989\n",
            "3524578 1.618033988749859\n",
            "5702887 1.6180339887499087\n",
            "9227465 1.6180339887498896\n",
            "14930352 1.618033988749897\n",
            "24157817 1.618033988749894\n",
            "39088169 1.6180339887498951\n",
            "63245986 1.6180339887498947\n",
            "102334155 1.618033988749895\n",
            "165580141 1.618033988749895\n",
            "267914296 1.618033988749895\n",
            "433494437 1.618033988749895\n",
            "701408733 1.618033988749895\n",
            "1134903170 1.618033988749895\n",
            "1836311903 1.618033988749895\n",
            "2971215073 1.618033988749895\n",
            "4807526976 1.618033988749895\n",
            "7778742049 1.618033988749895\n",
            "12586269025 1.618033988749895\n",
            "20365011074 1.618033988749895\n",
            "32951280099 1.618033988749895\n",
            "53316291173 1.618033988749895\n",
            "86267571272 1.618033988749895\n",
            "139583862445 1.618033988749895\n",
            "225851433717 1.618033988749895\n",
            "365435296162 1.618033988749895\n",
            "591286729879 1.618033988749895\n",
            "956722026041 1.618033988749895\n",
            "1548008755920 1.618033988749895\n",
            "2504730781961 1.618033988749895\n",
            "4052739537881 1.618033988749895\n",
            "6557470319842 1.618033988749895\n",
            "10610209857723 1.618033988749895\n",
            "17167680177565 1.618033988749895\n",
            "27777890035288 1.618033988749895\n",
            "44945570212853 1.618033988749895\n",
            "72723460248141 1.618033988749895\n",
            "117669030460994 1.618033988749895\n",
            "190392490709135 1.618033988749895\n",
            "308061521170129 1.618033988749895\n",
            "498454011879264 1.618033988749895\n",
            "806515533049393 1.618033988749895\n",
            "1304969544928657 1.618033988749895\n",
            "2111485077978050 1.618033988749895\n",
            "3416454622906707 1.618033988749895\n",
            "5527939700884757 1.618033988749895\n",
            "8944394323791464 1.618033988749895\n",
            "14472334024676221 1.618033988749895\n",
            "23416728348467685 1.618033988749895\n",
            "37889062373143906 1.618033988749895\n",
            "61305790721611591 1.618033988749895\n",
            "99194853094755497 1.618033988749895\n",
            "160500643816367088 1.618033988749895\n",
            "259695496911122585 1.618033988749895\n",
            "420196140727489673 1.618033988749895\n",
            "679891637638612258 1.618033988749895\n",
            "1100087778366101931 1.618033988749895\n",
            "1779979416004714189 1.618033988749895\n",
            "2880067194370816120 1.618033988749895\n",
            "4660046610375530309 1.618033988749895\n",
            "7540113804746346429 1.618033988749895\n",
            "12200160415121876738 1.618033988749895\n",
            "19740274219868223167 1.618033988749895\n",
            "31940434634990099905 1.618033988749895\n",
            "51680708854858323072 1.618033988749895\n",
            "83621143489848422977 1.618033988749895\n",
            "135301852344706746049 1.618033988749895\n",
            "218922995834555169026 1.618033988749895\n",
            "354224848179261915075 1.618033988749895\n"
          ]
        }
      ]
    },
    {
      "cell_type": "code",
      "source": [
        "import matplotlib.pyplot as plt\n",
        "plt.plot(ratioRecord)"
      ],
      "metadata": {
        "colab": {
          "base_uri": "https://localhost:8080/",
          "height": 282
        },
        "id": "5UCOVtJMD7wA",
        "outputId": "0a703ed6-b7a2-494d-8fa7-fc41d787c055"
      },
      "execution_count": 31,
      "outputs": [
        {
          "output_type": "execute_result",
          "data": {
            "text/plain": [
              "[<matplotlib.lines.Line2D at 0x7f8759656110>]"
            ]
          },
          "metadata": {},
          "execution_count": 31
        },
        {
          "output_type": "display_data",
          "data": {
            "text/plain": [
              "<Figure size 432x288 with 1 Axes>"
            ],
            "image/png": "[encoded data removed]"
          },
          "metadata": {
            "needs_background": "light"
          }
        }
      ]
    }
  ]
}