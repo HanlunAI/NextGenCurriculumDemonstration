{
  "nbformat": 4,
  "nbformat_minor": 0,
  "metadata": {
    "colab": {
      "name": "DemonstrationEpsilon.ipynb",
      "provenance": [],
      "collapsed_sections": [],
      "authorship_tag": "ABX9TyNUKna7jVDjaZc/sdmtls3N",
      "include_colab_link": true
    },
    "kernelspec": {
      "name": "python3",
      "display_name": "Python 3"
    },
    "language_info": {
      "name": "python"
    }
  },
  "cells": [
    {
      "cell_type": "markdown",
      "metadata": {
        "id": "view-in-github",
        "colab_type": "text"
      },
      "source": [
        "<a href=\"https://colab.research.google.com/github/HanlunAI/NextGenCurriculumDemonstration/blob/main/DemonstrationEpsilon.ipynb\" target=\"_parent\"><img src=\"https://colab.research.google.com/assets/colab-badge.svg\" alt=\"Open In Colab\"/></a>"
      ]
    },
    {
      "cell_type": "markdown",
      "source": [
        "#5. The Story of The Central Limit Theorem"
      ],
      "metadata": {
        "id": "OzNXJK1E2P7n"
      }
    },
    {
      "cell_type": "markdown",
      "source": [
        "#Preface\n",
        "##Learn how to learn\n",
        "\n",
        "In the beginning, computers were invented with an aim to supplement human thinking methods, more specifically, to help us think straight through the midst of complexity. In this series of demonstrations, we provide a journey of mathematical knowledge discovery accompanied with the nurturing of computer skills by the way. In practice, the Mathematics part will include some basic counting principles and statistics, and the Computer part will be some pre-written Python codes for high school students. Through this journey, you may develop you own style of exploration via self-experiment, peer learning, web-searching, etc.\n",
        "\n",
        "Demonstration materials in this series are by no means designed to be self-contained; but rather, we present some puzzles to guide the audience through a journey of learning. The author hoped audiences would enjoy this journey filling in the remaining details to construct their own knowledge base.\n",
        "\n",
        "-- YK Tai"
      ],
      "metadata": {
        "id": "Db5NtcRgR28I"
      }
    },
    {
      "cell_type": "markdown",
      "source": [
        "*Acknowledgement*\n",
        "\n",
        "*The author would like to thank Bobby Poon for going through this material, giving feedback and hosting a workshop.*"
      ],
      "metadata": {
        "id": "gh0oABkjR2s7"
      }
    },
    {
      "cell_type": "markdown",
      "source": [
        "##5.1 From Bernoulli Trials to i.i.d. Random Variables\n",
        "\n",
        "**5.1.1** From Bernoulli Trials to binomial distribution\n",
        "\n",
        "A Bernoulli trial (or binomial trial) is a random experiment with exactly two possible outcomes, \"success\" and \"failure\", in which the probability of success is the same every time the experiment is conducted. [Papoulis, A. 1984] An example of a Bernoulli trial is to toss a coin with the probability $p$ of getting a head.\n",
        "\n",
        "Another experiment is to toss the same coin $n$ times in a row would result in $n$  independent and identically distributed (*abbrv. as i.i.d.*) random variables, each of which has a probability $p$ of getting a head. Summing up these i.i.d. random variables, one may get the proportion of total heads as a binomial random variable. Distribution of such a random variable is denoted as $B(n,p)$.\n"
      ],
      "metadata": {
        "id": "fsN7kKpo2wr5"
      }
    },
    {
      "cell_type": "markdown",
      "source": [
        "**5.1.2** Resources from the web\n",
        "\n",
        "Kyle Siegrist from University of Alabama in Huntsville constructed a nice website devoted to probability, mathematical statistics: http://www.randomservices.org/random/. Please check out from there a web-application on an experiment on tossing coins: https://www.randomservices.org/random/apps/BinomialCoin.html. \n",
        "\n",
        "You may specify $n$ and $p$ for a simulation producing an empirical distribution. \n",
        "\n",
        "You may select \"*Stop: never*\" and click \"*run*\" to observe the asymptotic behaviour as *the sample size* increase."
      ],
      "metadata": {
        "id": "H-TdzcH8jt8f"
      }
    },
    {
      "cell_type": "markdown",
      "source": [
        "**5.1.3** Starter codes\n",
        "\n",
        "Proportion of success on $n$ Bernoulli trials, each with probability $p$ of success consitutes a binomial random variable $X \\sim B(n,p)$. The *probability mass function (pmf)* over integers $0\\leq i\\leq n$ can be related to binomial coefficients by \n",
        "\n",
        "$$P(X=i)=C^n_i p^i(1-p)^{n-i}$$\n",
        "\n",
        "Cumulative sum over this pmf gives the *Cumulative Distribution Function (CDF)* of $X$. Let's play the the next code cell to see the pmf and CDF for different $n$ and $p$."
      ],
      "metadata": {
        "id": "cwt4Tt6Ry3zn"
      }
    },
    {
      "cell_type": "code",
      "source": [
        "import numpy as np\n",
        "import matplotlib.pyplot as plt\n",
        "\n",
        "#@title Select values of p and n with the sliders and run the result\n",
        "#the case when p = 0.5 means the coin is a fair coin\n",
        "p = 0.5#@param{type:\"slider\", max:1, min:0, step:\"0.0001\"}\n",
        "n = 10 #@param{type:\"slider\", min:5, max:30, step:1}\n",
        "\n",
        "def binomial(p):\n",
        "  count = 0\n",
        "  layer = np.array([1])\n",
        "  yield count, layer\n",
        "  q = 1-p\n",
        "  while True:\n",
        "    count += 1\n",
        "    first = np.append(layer*q, np.array([0]))\n",
        "    second = np.append(np.array([0]), layer*p)\n",
        "    layer = first + second\n",
        "    yield count, layer\n",
        "\n",
        "def bin(n, p):\n",
        "  for count, pmf in binomial(p):\n",
        "    if count == n:\n",
        "      support = np.array(range(n+1))\n",
        "      #first moment\n",
        "      mean = np.dot(pmf, support)\n",
        "      #second central moment\n",
        "      varience = np.dot(pmf, (support-mean)**2)\n",
        "      return mean, varience, pmf \n",
        "\n",
        "plt.rcParams[\"figure.figsize\"] = (20,9)\n",
        "\n",
        "plt.title(\"pmf and CDF of Binomial Distribution\")\n",
        "mean, varience, pmf = bin(n, p)\n",
        "support = [i for i in range(n+1)]\n",
        "plt.step(support, pmf.cumsum(), where='post')\n",
        "plt.fill_between(support, pmf, step=\"mid\", alpha=0.4, color = \"red\")\n",
        "plt.ylabel(\"probability (increasing steps for CDF and filled area for pmf)\")\n",
        "plt.xlabel(\"i\")\n",
        "plt.show()"
      ],
      "metadata": {
        "colab": {
          "base_uri": "https://localhost:8080/",
          "height": 567
        },
        "id": "8wYg1YdT2v0u",
        "outputId": "29a6ed7f-a4e6-4d41-ae65-972d53e764be",
        "cellView": "form"
      },
      "execution_count": 27,
      "outputs": [
        {
          "output_type": "display_data",
          "data": {
            "text/plain": [
              "<Figure size 1440x648 with 1 Axes>"
            ],
            "image/png": "[encoded data removed]"
          },
          "metadata": {
            "needs_background": "light"
          }
        }
      ]
    },
    {
      "cell_type": "markdown",
      "source": [
        "**5.1.4** Example: the Binomial Distribution comes up quite often. Recall our workstation with $n$ battaries running in parallel. After a period of wear and tear, assume each battery has an identitical chance of $p$ requiring replacement, independent of other batteries. Then the proportion of batteries need replacement also follow the binomial distribution $B(n,p)$."
      ],
      "metadata": {
        "id": "6Oj-DmZ06DwH"
      }
    },
    {
      "cell_type": "markdown",
      "source": [
        "##5.2 Approximation of the Binomial Distribution"
      ],
      "metadata": {
        "id": "kw1PyOnJ242J"
      }
    },
    {
      "cell_type": "markdown",
      "source": [
        "**5.2.1** Wow! Let's run this.\n",
        "\n",
        "One may compute the mean and variance of $B(n,p)$ to be $np$ and $np(1-p)$ respecitively. (Computation is skipped here. One way to do so is to take advantage of the *additive property* of expectation.)\n",
        "\n",
        "In the next code cell, we plot side by side CDFs of the Binomial Distribution and the Normal Distribution with the same mean and variance. Did you spot anything amazing as $n$ increase?"
      ],
      "metadata": {
        "id": "3r-q_eN930EP"
      }
    },
    {
      "cell_type": "code",
      "source": [
        "import numpy as np\n",
        "import matplotlib.pyplot as plt\n",
        "from scipy import special\n",
        "\n",
        "#@title Select values of p and n with the sliders and run the result\n",
        "\n",
        "p = 0.5#@param{type:\"slider\", max:1, min:0, step:\"0.0001\"}\n",
        "n = 50#@param{type:\"slider\", max:1000, min:1, step:\"1\"}\n",
        "\n",
        "\n",
        "plt.rcParams[\"figure.figsize\"] = (20,9)\n",
        "plt.title(\"CDFs of the Binomial Distribution and the Normal Distribution\")\n",
        "support = [i for i in range(n+1)]\n",
        "mean, varience, pmf = bin(n, p)\n",
        "plt.step(support, pmf.cumsum(), where='post')\n",
        "\n",
        "\n",
        "x = np.linspace(0, n, 1000)\n",
        "Lx = (x-mean)/np.sqrt(varience)\n",
        "F = (special.erf(Lx/np.sqrt(2))+1)/2\n",
        "plt.plot(x, F)\n",
        "plt.ylabel(\"CDF\")\n",
        "plt.xlabel(\"i\")\n",
        "plt.show()"
      ],
      "metadata": {
        "id": "8NYQTekQ3OJb",
        "colab": {
          "base_uri": "https://localhost:8080/",
          "height": 567
        },
        "outputId": "7e5b6997-70b2-4be3-ccbb-b5d5a2d7aba0",
        "cellView": "form"
      },
      "execution_count": 28,
      "outputs": [
        {
          "output_type": "display_data",
          "data": {
            "text/plain": [
              "<Figure size 1440x648 with 1 Axes>"
            ],
            "image/png": "[encoded data removed]"
          },
          "metadata": {
            "needs_background": "light"
          }
        }
      ]
    },
    {
      "cell_type": "markdown",
      "source": [
        "**5.2.2** The Story of the Central Limit Theorem~\n",
        "\n",
        "Yes! The smooth CDF of the Normal Distribution passes through many steps of the CDF of the Binomial Distribution. As $n$ increase, the two almost coincide no matter what $p$ we start from. This suggests that the Normal Distribution is a good approximation of the Binomial Distribution. This could be viewed as a special case of the Central Limit Theorem.\n",
        "\n",
        "Under a border scope, we may start from almost any random variable $Y$ (extending the Bernoulli Trial as in 5.1.1). And the story of the *Central Limit Theorem* goes like this:\n",
        "1. Almost surely, a bookkeeping of $Y$ can be given by its moments (a.k.a. the first moment, the second central moment, the third central moment, the forth central moment, ...)\n",
        "2. **Keypoint:** The Normal Distribution is actually the class of distribution with the third central moment, the forth central moment and all central moments of higher orders being $0$.\n",
        "3. Given $n$ identitical and yet independent samples of $Y$. Let's sum up these samples and take the average, denoted as $\\bar{Y_n}$.\n",
        "4. Moments of $\\bar{Y_n}$ can be computed accordingly by additive property of expectation. \n",
        "5. As the number $n$ grows, the third central moment, the forth central moment and all central moments of higher orders of $\\bar{Y_n}$ approach $0$ really fast.\n",
        "6. And so, for large $n$, one may approximate $\\bar{Y_n}$ with a distribution having the same mean and variance, and all other central moments being zero. Naturally, such a approximation would be a normal distribution!\n",
        "\n",
        "(Umm... this is just a story, not even a sketch of a proof... it would be helpful to pick up some knowledge in probability measure, moment generating function and integral transforms if one would like to work on a proof.)"
      ],
      "metadata": {
        "id": "zp2Isgq06n7r"
      }
    },
    {
      "cell_type": "markdown",
      "source": [
        "##\"What's Past is Prologue\"\n",
        "\n",
        "*Special thanks to all students joining the workshop.*\n",
        "\n",
        "Hopefully, this workshop would mark a beginning for some students' journey in python, colab and maybe also mathematics.\n",
        "\n",
        "If you find this material helpful, please feel free to give us a star/ fork [our demonstration](https://github.com/HanlunAI/NextGenCurriculumDemonstration)\n",
        "\n",
        "More information about us can be found [here](https://hanlunai.com/) :)\n",
        "\n",
        "If you would like to collaborate on interesting data analytics projects, please feel free to [write to us](yktai@hanlunai.com)."
      ],
      "metadata": {
        "id": "UrWMI7UK3ykR"
      }
    }
  ]
}