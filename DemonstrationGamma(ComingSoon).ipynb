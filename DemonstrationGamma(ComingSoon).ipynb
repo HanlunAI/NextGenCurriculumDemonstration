{
  "nbformat": 4,
  "nbformat_minor": 0,
  "metadata": {
    "colab": {
      "name": "DemonstrationGamma(ComingSoon).ipynb",
      "provenance": [],
      "collapsed_sections": [],
      "authorship_tag": "ABX9TyO2dstS8PytsxHB6TY8xC21",
      "include_colab_link": true
    },
    "kernelspec": {
      "name": "python3",
      "display_name": "Python 3"
    },
    "language_info": {
      "name": "python"
    }
  },
  "cells": [
    {
      "cell_type": "markdown",
      "metadata": {
        "id": "view-in-github",
        "colab_type": "text"
      },
      "source": [
        "<a href=\"https://colab.research.google.com/github/HanlunAI/NextGenCurriculumDemonstration/blob/main/DemonstrationGamma(ComingSoon).ipynb\" target=\"_parent\"><img src=\"https://colab.research.google.com/assets/colab-badge.svg\" alt=\"Open In Colab\"/></a>"
      ]
    },
    {
      "cell_type": "markdown",
      "source": [
        "#3. Combination\n"
      ],
      "metadata": {
        "id": "U1viyb-_Ddo-"
      }
    },
    {
      "cell_type": "markdown",
      "source": [
        "##3.1 Listing Combinations"
      ],
      "metadata": {
        "id": "00gTR-HWDj74"
      }
    },
    {
      "cell_type": "code",
      "source": [
        ""
      ],
      "metadata": {
        "id": "3L1ANQTlDgNZ"
      },
      "execution_count": null,
      "outputs": []
    },
    {
      "cell_type": "markdown",
      "source": [
        "## 3.2 Some Properties of Combinations"
      ],
      "metadata": {
        "id": "5TB-7ZJoDsTx"
      }
    },
    {
      "cell_type": "code",
      "source": [
        ""
      ],
      "metadata": {
        "id": "S6U65hz9Dwc4"
      },
      "execution_count": null,
      "outputs": []
    },
    {
      "cell_type": "markdown",
      "source": [
        "##3.3 Some Applications of Combinations"
      ],
      "metadata": {
        "id": "E_aexKAsD0fN"
      }
    },
    {
      "cell_type": "code",
      "source": [
        ""
      ],
      "metadata": {
        "id": "_m57_WkgD63k"
      },
      "execution_count": null,
      "outputs": []
    },
    {
      "cell_type": "markdown",
      "source": [
        "##3.4 Binomial Theorem"
      ],
      "metadata": {
        "id": "MeSibdSFD7p8"
      }
    },
    {
      "cell_type": "code",
      "source": [
        ""
      ],
      "metadata": {
        "id": "5PfJ5c3MEDy2"
      },
      "execution_count": null,
      "outputs": []
    }
  ]
}